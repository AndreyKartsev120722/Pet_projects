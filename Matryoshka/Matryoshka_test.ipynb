{
 "cells": [
  {
   "cell_type": "markdown",
   "id": "cba7d7d6",
   "metadata": {},
   "source": [
    "# Задача №1 для Matryoshka"
   ]
  },
  {
   "cell_type": "markdown",
   "id": "35d38edb",
   "metadata": {},
   "source": [
    "**Задача**\n",
    "\n",
    "В документе предоставлены реальные данные по одному из проектов для когорт,\n",
    "установивших игру с 21.09.23 по 28.09.23\n",
    "Судя по этим данным, предположите, как нарастает ревеню в первый месяц жизни у\n",
    "пользователей игры.\n",
    "Во сколько раз увеличится ревеню нулевого дня (день установки игры), первого и\n",
    "третьего дня к 30-му дню?\n"
   ]
  },
  {
   "cell_type": "markdown",
   "id": "860c99bb",
   "metadata": {},
   "source": [
    "**Пояснение к таблицe:**\n",
    "\n",
    "Лист `ad revenue` (данные по рекламному заработку):\n",
    "- `Install_date` - дата установки игры пользователем\n",
    "- `Event_date` - дата совершения события\n",
    "- `Event_revenue` - рекламный заработок\n",
    "- `Platform` - платформа\n",
    "- `User_id` - уникальный идентификатор пользователя\n",
    "\n",
    "\n",
    "Лист `installs data` (данные по количеству инсталлов)\n",
    "- `Install_date` - дата\n",
    "- `installs` - количество инсталлов\n",
    "- `Platform` - платформа"
   ]
  },
  {
   "cell_type": "markdown",
   "id": "b3a95d5c",
   "metadata": {},
   "source": [
    "**План**\n",
    "\n",
    " - Загрузка данных\n",
    " - Предварительное знакомство\n",
    " - Предобработка\n",
    "     - пропуски\n",
    "     - дубликаты\n",
    "     - ошибки\n",
    "     \n",
    "- Анализ изменения ревеню в первый месяц жизни у пользователей игры\n",
    "- Итоговый вывод"
   ]
  },
  {
   "cell_type": "markdown",
   "id": "76e15e09",
   "metadata": {},
   "source": [
    "## Загрузка данных"
   ]
  },
  {
   "cell_type": "code",
   "execution_count": 1,
   "id": "6e2e414b",
   "metadata": {},
   "outputs": [],
   "source": [
    "import pandas as pd\n",
    "import matplotlib.pyplot as plt\n",
    "import seaborn as sns\n",
    "# импорт функции для подбора параметров экспоненциальной нелинейной модели\n",
    "from scipy.optimize import curve_fit\n",
    "import numpy as np\n"
   ]
  },
  {
   "cell_type": "code",
   "execution_count": 2,
   "id": "691fb063",
   "metadata": {
    "scrolled": true
   },
   "outputs": [
    {
     "data": {
      "text/html": [
       "<div>\n",
       "<style scoped>\n",
       "    .dataframe tbody tr th:only-of-type {\n",
       "        vertical-align: middle;\n",
       "    }\n",
       "\n",
       "    .dataframe tbody tr th {\n",
       "        vertical-align: top;\n",
       "    }\n",
       "\n",
       "    .dataframe thead th {\n",
       "        text-align: right;\n",
       "    }\n",
       "</style>\n",
       "<table border=\"1\" class=\"dataframe\">\n",
       "  <thead>\n",
       "    <tr style=\"text-align: right;\">\n",
       "      <th></th>\n",
       "      <th>install_date</th>\n",
       "      <th>event_date</th>\n",
       "      <th>event_revenue</th>\n",
       "      <th>platform</th>\n",
       "      <th>user_id</th>\n",
       "    </tr>\n",
       "  </thead>\n",
       "  <tbody>\n",
       "    <tr>\n",
       "      <th>0</th>\n",
       "      <td>2023-09-21</td>\n",
       "      <td>2023-09-21</td>\n",
       "      <td>0.316470</td>\n",
       "      <td>android</td>\n",
       "      <td>1695339148585-8391306266630234966</td>\n",
       "    </tr>\n",
       "    <tr>\n",
       "      <th>1</th>\n",
       "      <td>2023-09-21</td>\n",
       "      <td>2023-09-21</td>\n",
       "      <td>0.063103</td>\n",
       "      <td>android</td>\n",
       "      <td>1695280270975-5411644856462553821</td>\n",
       "    </tr>\n",
       "    <tr>\n",
       "      <th>2</th>\n",
       "      <td>2023-09-21</td>\n",
       "      <td>2023-09-21</td>\n",
       "      <td>0.316470</td>\n",
       "      <td>android</td>\n",
       "      <td>1695317488398-8939481192662600393</td>\n",
       "    </tr>\n",
       "    <tr>\n",
       "      <th>3</th>\n",
       "      <td>2023-09-21</td>\n",
       "      <td>2023-09-21</td>\n",
       "      <td>0.054710</td>\n",
       "      <td>android</td>\n",
       "      <td>1695317488398-8939481192662600393</td>\n",
       "    </tr>\n",
       "    <tr>\n",
       "      <th>4</th>\n",
       "      <td>2023-09-21</td>\n",
       "      <td>2023-09-21</td>\n",
       "      <td>0.024880</td>\n",
       "      <td>android</td>\n",
       "      <td>1695280270975-5411644856462553821</td>\n",
       "    </tr>\n",
       "  </tbody>\n",
       "</table>\n",
       "</div>"
      ],
      "text/plain": [
       "  install_date event_date  event_revenue platform  \\\n",
       "0   2023-09-21 2023-09-21       0.316470  android   \n",
       "1   2023-09-21 2023-09-21       0.063103  android   \n",
       "2   2023-09-21 2023-09-21       0.316470  android   \n",
       "3   2023-09-21 2023-09-21       0.054710  android   \n",
       "4   2023-09-21 2023-09-21       0.024880  android   \n",
       "\n",
       "                             user_id  \n",
       "0  1695339148585-8391306266630234966  \n",
       "1  1695280270975-5411644856462553821  \n",
       "2  1695317488398-8939481192662600393  \n",
       "3  1695317488398-8939481192662600393  \n",
       "4  1695280270975-5411644856462553821  "
      ]
     },
     "execution_count": 2,
     "metadata": {},
     "output_type": "execute_result"
    }
   ],
   "source": [
    "#путь к файлу с данными\n",
    "path = 'D:\\Резюме Андрей Финальные\\Тестовые от работодателей\\Матрешка\\Ad_revenue.xlsx'\n",
    "\n",
    "#загружаем первый лист\n",
    "try:\n",
    "    ad_revenue = pd.read_excel(path)\n",
    "except:\n",
    "    print('Укажите верный путь к данным!')\n",
    "    \n",
    "ad_revenue.head()"
   ]
  },
  {
   "cell_type": "code",
   "execution_count": 3,
   "id": "f3969277",
   "metadata": {},
   "outputs": [
    {
     "name": "stdout",
     "output_type": "stream",
     "text": [
      "<class 'pandas.core.frame.DataFrame'>\n",
      "RangeIndex: 78723 entries, 0 to 78722\n",
      "Data columns (total 5 columns):\n",
      " #   Column         Non-Null Count  Dtype         \n",
      "---  ------         --------------  -----         \n",
      " 0   install_date   78723 non-null  datetime64[ns]\n",
      " 1   event_date     78723 non-null  datetime64[ns]\n",
      " 2   event_revenue  77812 non-null  float64       \n",
      " 3   platform       78723 non-null  object        \n",
      " 4   user_id        78723 non-null  object        \n",
      "dtypes: datetime64[ns](2), float64(1), object(2)\n",
      "memory usage: 3.0+ MB\n"
     ]
    }
   ],
   "source": [
    "ad_revenue.info()"
   ]
  },
  {
   "cell_type": "code",
   "execution_count": 4,
   "id": "93dc71b3",
   "metadata": {
    "scrolled": false
   },
   "outputs": [
    {
     "data": {
      "text/html": [
       "<div>\n",
       "<style scoped>\n",
       "    .dataframe tbody tr th:only-of-type {\n",
       "        vertical-align: middle;\n",
       "    }\n",
       "\n",
       "    .dataframe tbody tr th {\n",
       "        vertical-align: top;\n",
       "    }\n",
       "\n",
       "    .dataframe thead th {\n",
       "        text-align: right;\n",
       "    }\n",
       "</style>\n",
       "<table border=\"1\" class=\"dataframe\">\n",
       "  <thead>\n",
       "    <tr style=\"text-align: right;\">\n",
       "      <th></th>\n",
       "      <th>install_date</th>\n",
       "      <th>installs</th>\n",
       "      <th>platform</th>\n",
       "    </tr>\n",
       "  </thead>\n",
       "  <tbody>\n",
       "    <tr>\n",
       "      <th>0</th>\n",
       "      <td>2023-09-21</td>\n",
       "      <td>1</td>\n",
       "      <td>android</td>\n",
       "    </tr>\n",
       "    <tr>\n",
       "      <th>1</th>\n",
       "      <td>2023-09-21</td>\n",
       "      <td>0</td>\n",
       "      <td>android</td>\n",
       "    </tr>\n",
       "    <tr>\n",
       "      <th>2</th>\n",
       "      <td>2023-09-21</td>\n",
       "      <td>47</td>\n",
       "      <td>android</td>\n",
       "    </tr>\n",
       "    <tr>\n",
       "      <th>3</th>\n",
       "      <td>2023-09-21</td>\n",
       "      <td>0</td>\n",
       "      <td>android</td>\n",
       "    </tr>\n",
       "    <tr>\n",
       "      <th>4</th>\n",
       "      <td>2023-09-21</td>\n",
       "      <td>0</td>\n",
       "      <td>android</td>\n",
       "    </tr>\n",
       "  </tbody>\n",
       "</table>\n",
       "</div>"
      ],
      "text/plain": [
       "  install_date  installs platform\n",
       "0   2023-09-21         1  android\n",
       "1   2023-09-21         0  android\n",
       "2   2023-09-21        47  android\n",
       "3   2023-09-21         0  android\n",
       "4   2023-09-21         0  android"
      ]
     },
     "execution_count": 4,
     "metadata": {},
     "output_type": "execute_result"
    }
   ],
   "source": [
    "#загружаем второй лист\n",
    "try:\n",
    "    installs = pd.read_excel(path, sheet_name=1)\n",
    "except:\n",
    "    print('Укажите верный путь к данным!')\n",
    "    \n",
    "installs.head()"
   ]
  },
  {
   "cell_type": "code",
   "execution_count": 5,
   "id": "8a765aa1",
   "metadata": {
    "scrolled": true
   },
   "outputs": [
    {
     "name": "stdout",
     "output_type": "stream",
     "text": [
      "<class 'pandas.core.frame.DataFrame'>\n",
      "RangeIndex: 579 entries, 0 to 578\n",
      "Data columns (total 3 columns):\n",
      " #   Column        Non-Null Count  Dtype         \n",
      "---  ------        --------------  -----         \n",
      " 0   install_date  579 non-null    datetime64[ns]\n",
      " 1   installs      579 non-null    int64         \n",
      " 2   platform      579 non-null    object        \n",
      "dtypes: datetime64[ns](1), int64(1), object(1)\n",
      "memory usage: 13.7+ KB\n"
     ]
    }
   ],
   "source": [
    "installs.info()"
   ]
  },
  {
   "cell_type": "markdown",
   "id": "2aad60a8",
   "metadata": {},
   "source": [
    "## Предварительное знакомство"
   ]
  },
  {
   "cell_type": "markdown",
   "id": "2cb25bb8",
   "metadata": {},
   "source": [
    "### Знакомство с первой таблицей `ad_revenue` "
   ]
  },
  {
   "cell_type": "code",
   "execution_count": 6,
   "id": "452ed46b",
   "metadata": {
    "scrolled": true
   },
   "outputs": [
    {
     "data": {
      "text/html": [
       "<div>\n",
       "<style scoped>\n",
       "    .dataframe tbody tr th:only-of-type {\n",
       "        vertical-align: middle;\n",
       "    }\n",
       "\n",
       "    .dataframe tbody tr th {\n",
       "        vertical-align: top;\n",
       "    }\n",
       "\n",
       "    .dataframe thead th {\n",
       "        text-align: right;\n",
       "    }\n",
       "</style>\n",
       "<table border=\"1\" class=\"dataframe\">\n",
       "  <thead>\n",
       "    <tr style=\"text-align: right;\">\n",
       "      <th></th>\n",
       "      <th>install_date</th>\n",
       "      <th>event_date</th>\n",
       "      <th>event_revenue</th>\n",
       "      <th>platform</th>\n",
       "      <th>user_id</th>\n",
       "    </tr>\n",
       "  </thead>\n",
       "  <tbody>\n",
       "    <tr>\n",
       "      <th>0</th>\n",
       "      <td>2023-09-21</td>\n",
       "      <td>2023-09-21</td>\n",
       "      <td>0.316470</td>\n",
       "      <td>android</td>\n",
       "      <td>1695339148585-8391306266630234966</td>\n",
       "    </tr>\n",
       "    <tr>\n",
       "      <th>1</th>\n",
       "      <td>2023-09-21</td>\n",
       "      <td>2023-09-21</td>\n",
       "      <td>0.063103</td>\n",
       "      <td>android</td>\n",
       "      <td>1695280270975-5411644856462553821</td>\n",
       "    </tr>\n",
       "    <tr>\n",
       "      <th>2</th>\n",
       "      <td>2023-09-21</td>\n",
       "      <td>2023-09-21</td>\n",
       "      <td>0.316470</td>\n",
       "      <td>android</td>\n",
       "      <td>1695317488398-8939481192662600393</td>\n",
       "    </tr>\n",
       "    <tr>\n",
       "      <th>3</th>\n",
       "      <td>2023-09-21</td>\n",
       "      <td>2023-09-21</td>\n",
       "      <td>0.054710</td>\n",
       "      <td>android</td>\n",
       "      <td>1695317488398-8939481192662600393</td>\n",
       "    </tr>\n",
       "    <tr>\n",
       "      <th>4</th>\n",
       "      <td>2023-09-21</td>\n",
       "      <td>2023-09-21</td>\n",
       "      <td>0.024880</td>\n",
       "      <td>android</td>\n",
       "      <td>1695280270975-5411644856462553821</td>\n",
       "    </tr>\n",
       "  </tbody>\n",
       "</table>\n",
       "</div>"
      ],
      "text/plain": [
       "  install_date event_date  event_revenue platform  \\\n",
       "0   2023-09-21 2023-09-21       0.316470  android   \n",
       "1   2023-09-21 2023-09-21       0.063103  android   \n",
       "2   2023-09-21 2023-09-21       0.316470  android   \n",
       "3   2023-09-21 2023-09-21       0.054710  android   \n",
       "4   2023-09-21 2023-09-21       0.024880  android   \n",
       "\n",
       "                             user_id  \n",
       "0  1695339148585-8391306266630234966  \n",
       "1  1695280270975-5411644856462553821  \n",
       "2  1695317488398-8939481192662600393  \n",
       "3  1695317488398-8939481192662600393  \n",
       "4  1695280270975-5411644856462553821  "
      ]
     },
     "execution_count": 6,
     "metadata": {},
     "output_type": "execute_result"
    }
   ],
   "source": [
    "ad_revenue.head()"
   ]
  },
  {
   "cell_type": "code",
   "execution_count": 7,
   "id": "1257296b",
   "metadata": {
    "scrolled": false
   },
   "outputs": [
    {
     "name": "stdout",
     "output_type": "stream",
     "text": [
      "<class 'pandas.core.frame.DataFrame'>\n",
      "RangeIndex: 78723 entries, 0 to 78722\n",
      "Data columns (total 5 columns):\n",
      " #   Column         Non-Null Count  Dtype         \n",
      "---  ------         --------------  -----         \n",
      " 0   install_date   78723 non-null  datetime64[ns]\n",
      " 1   event_date     78723 non-null  datetime64[ns]\n",
      " 2   event_revenue  77812 non-null  float64       \n",
      " 3   platform       78723 non-null  object        \n",
      " 4   user_id        78723 non-null  object        \n",
      "dtypes: datetime64[ns](2), float64(1), object(2)\n",
      "memory usage: 3.0+ MB\n"
     ]
    }
   ],
   "source": [
    "ad_revenue.info()"
   ]
  },
  {
   "cell_type": "markdown",
   "id": "10788211",
   "metadata": {},
   "source": [
    "#### Проверим на полные дубликаты строк в `ad_revenue`"
   ]
  },
  {
   "cell_type": "code",
   "execution_count": 8,
   "id": "b9549dbc",
   "metadata": {},
   "outputs": [
    {
     "data": {
      "text/plain": [
       "1209"
      ]
     },
     "execution_count": 8,
     "metadata": {},
     "output_type": "execute_result"
    }
   ],
   "source": [
    "ad_revenue.duplicated().sum()"
   ]
  },
  {
   "cell_type": "code",
   "execution_count": 9,
   "id": "7ab8501b",
   "metadata": {
    "scrolled": false
   },
   "outputs": [
    {
     "data": {
      "text/html": [
       "<div>\n",
       "<style scoped>\n",
       "    .dataframe tbody tr th:only-of-type {\n",
       "        vertical-align: middle;\n",
       "    }\n",
       "\n",
       "    .dataframe tbody tr th {\n",
       "        vertical-align: top;\n",
       "    }\n",
       "\n",
       "    .dataframe thead th {\n",
       "        text-align: right;\n",
       "    }\n",
       "</style>\n",
       "<table border=\"1\" class=\"dataframe\">\n",
       "  <thead>\n",
       "    <tr style=\"text-align: right;\">\n",
       "      <th></th>\n",
       "      <th>install_date</th>\n",
       "      <th>event_date</th>\n",
       "      <th>event_revenue</th>\n",
       "      <th>platform</th>\n",
       "      <th>user_id</th>\n",
       "    </tr>\n",
       "  </thead>\n",
       "  <tbody>\n",
       "    <tr>\n",
       "      <th>84</th>\n",
       "      <td>2023-09-21</td>\n",
       "      <td>2023-09-21</td>\n",
       "      <td>0.02877</td>\n",
       "      <td>android</td>\n",
       "      <td>1695330693176-4390526197101408327</td>\n",
       "    </tr>\n",
       "    <tr>\n",
       "      <th>88</th>\n",
       "      <td>2023-09-21</td>\n",
       "      <td>2023-09-21</td>\n",
       "      <td>0.02877</td>\n",
       "      <td>android</td>\n",
       "      <td>1695330693176-4390526197101408327</td>\n",
       "    </tr>\n",
       "    <tr>\n",
       "      <th>104</th>\n",
       "      <td>2023-09-21</td>\n",
       "      <td>2023-09-21</td>\n",
       "      <td>0.02877</td>\n",
       "      <td>android</td>\n",
       "      <td>1695295289468-3671037856549823679</td>\n",
       "    </tr>\n",
       "    <tr>\n",
       "      <th>105</th>\n",
       "      <td>2023-09-21</td>\n",
       "      <td>2023-09-21</td>\n",
       "      <td>0.02877</td>\n",
       "      <td>android</td>\n",
       "      <td>1695295289468-3671037856549823679</td>\n",
       "    </tr>\n",
       "    <tr>\n",
       "      <th>171</th>\n",
       "      <td>2023-09-21</td>\n",
       "      <td>2023-09-21</td>\n",
       "      <td>0.02201</td>\n",
       "      <td>android</td>\n",
       "      <td>1695268101101-3367458288704049675</td>\n",
       "    </tr>\n",
       "    <tr>\n",
       "      <th>...</th>\n",
       "      <td>...</td>\n",
       "      <td>...</td>\n",
       "      <td>...</td>\n",
       "      <td>...</td>\n",
       "      <td>...</td>\n",
       "    </tr>\n",
       "    <tr>\n",
       "      <th>77957</th>\n",
       "      <td>2023-09-25</td>\n",
       "      <td>2023-09-30</td>\n",
       "      <td>0.01000</td>\n",
       "      <td>android</td>\n",
       "      <td>1695658453750-5642155466531193142</td>\n",
       "    </tr>\n",
       "    <tr>\n",
       "      <th>78072</th>\n",
       "      <td>2023-09-26</td>\n",
       "      <td>2023-09-30</td>\n",
       "      <td>0.07016</td>\n",
       "      <td>android</td>\n",
       "      <td>1695772369888-6366446925311368986</td>\n",
       "    </tr>\n",
       "    <tr>\n",
       "      <th>78082</th>\n",
       "      <td>2023-09-26</td>\n",
       "      <td>2023-09-30</td>\n",
       "      <td>0.07016</td>\n",
       "      <td>android</td>\n",
       "      <td>1695772369888-6366446925311368986</td>\n",
       "    </tr>\n",
       "    <tr>\n",
       "      <th>78269</th>\n",
       "      <td>2023-09-28</td>\n",
       "      <td>2023-09-30</td>\n",
       "      <td>0.07016</td>\n",
       "      <td>android</td>\n",
       "      <td>1695940437739-1540561450390005280</td>\n",
       "    </tr>\n",
       "    <tr>\n",
       "      <th>78271</th>\n",
       "      <td>2023-09-28</td>\n",
       "      <td>2023-09-30</td>\n",
       "      <td>0.07016</td>\n",
       "      <td>android</td>\n",
       "      <td>1695940437739-1540561450390005280</td>\n",
       "    </tr>\n",
       "  </tbody>\n",
       "</table>\n",
       "<p>2321 rows × 5 columns</p>\n",
       "</div>"
      ],
      "text/plain": [
       "      install_date event_date  event_revenue platform  \\\n",
       "84      2023-09-21 2023-09-21        0.02877  android   \n",
       "88      2023-09-21 2023-09-21        0.02877  android   \n",
       "104     2023-09-21 2023-09-21        0.02877  android   \n",
       "105     2023-09-21 2023-09-21        0.02877  android   \n",
       "171     2023-09-21 2023-09-21        0.02201  android   \n",
       "...            ...        ...            ...      ...   \n",
       "77957   2023-09-25 2023-09-30        0.01000  android   \n",
       "78072   2023-09-26 2023-09-30        0.07016  android   \n",
       "78082   2023-09-26 2023-09-30        0.07016  android   \n",
       "78269   2023-09-28 2023-09-30        0.07016  android   \n",
       "78271   2023-09-28 2023-09-30        0.07016  android   \n",
       "\n",
       "                                 user_id  \n",
       "84     1695330693176-4390526197101408327  \n",
       "88     1695330693176-4390526197101408327  \n",
       "104    1695295289468-3671037856549823679  \n",
       "105    1695295289468-3671037856549823679  \n",
       "171    1695268101101-3367458288704049675  \n",
       "...                                  ...  \n",
       "77957  1695658453750-5642155466531193142  \n",
       "78072  1695772369888-6366446925311368986  \n",
       "78082  1695772369888-6366446925311368986  \n",
       "78269  1695940437739-1540561450390005280  \n",
       "78271  1695940437739-1540561450390005280  \n",
       "\n",
       "[2321 rows x 5 columns]"
      ]
     },
     "execution_count": 9,
     "metadata": {},
     "output_type": "execute_result"
    }
   ],
   "source": [
    "ad_revenue_duplicated = ad_revenue[ad_revenue.duplicated(keep=False)]\n",
    "ad_revenue_duplicated"
   ]
  },
  {
   "cell_type": "code",
   "execution_count": 10,
   "id": "46e25404",
   "metadata": {},
   "outputs": [
    {
     "data": {
      "image/png": "[encoded data removed]",
      "text/plain": [
       "<Figure size 1200x600 with 1 Axes>"
      ]
     },
     "metadata": {},
     "output_type": "display_data"
    },
    {
     "data": {
      "image/png": "[encoded data removed]",
      "text/plain": [
       "<Figure size 1200x600 with 1 Axes>"
      ]
     },
     "metadata": {},
     "output_type": "display_data"
    }
   ],
   "source": [
    "#распределение дубликатов по датам\n",
    "plt.figure(figsize=(12, 6))\n",
    "sns.histplot(ad_revenue_duplicated['event_date'], kde=False, bins=30)\n",
    "plt.title('Распределение дубликатов во времени')\n",
    "plt.xlabel('Дата события')\n",
    "plt.ylabel('Количество дубликатов')\n",
    "plt.xticks(rotation=45)\n",
    "plt.tight_layout()\n",
    "plt.show()\n",
    "\n",
    "#распределнние дубликатов по пользователям\n",
    "user_counts = ad_revenue_duplicated['user_id'].value_counts()\n",
    "plt.figure(figsize=(12, 6))\n",
    "sns.histplot(user_counts, kde=False, bins=30)\n",
    "plt.title('Распределение дубликатов по пользователям')\n",
    "plt.xlabel('Количество дубликатов на пользователя')\n",
    "plt.ylabel('Количество пользователей')\n",
    "plt.tight_layout()\n",
    "plt.show()"
   ]
  },
  {
   "cell_type": "markdown",
   "id": "d5ec18aa",
   "metadata": {},
   "source": [
    "В данных **1.5%** дубликатов. Так как исследуются когорты, установившие игру, то это может свидетельствовать о том, что один пользователь мог просмотреть рекламу в игре несколько раз в один день и это могла быть реклама одного рекламодателя, поэтому могут совпадать и значения ревенью. В данных о рекламных доходах может быть нормальным наличие нескольких транзакций в один и тот же день для одного пользователя. Оставляем данные дубликаты."
   ]
  },
  {
   "cell_type": "markdown",
   "id": "9b8ef9c2",
   "metadata": {},
   "source": [
    "#### Проверка на пропуски в `ad_revenue`"
   ]
  },
  {
   "cell_type": "code",
   "execution_count": 11,
   "id": "96ee2e50",
   "metadata": {},
   "outputs": [
    {
     "data": {
      "text/plain": [
       "911"
      ]
     },
     "execution_count": 11,
     "metadata": {},
     "output_type": "execute_result"
    }
   ],
   "source": [
    "#работаем с пропусками\n",
    "ad_revenue['event_revenue'].isnull().sum()"
   ]
  },
  {
   "cell_type": "markdown",
   "id": "ffd27dd7",
   "metadata": {},
   "source": [
    "В столбце `event_revenue` имеется 911 пропусков, что составляет примерно **1.16%** от общего числа записей. Учитывая, что доля пропусков не очень велика, наиболее разумным подходом будет замена этих пропусков на нули. Это предполагает, что отсутствие данных о доходе означает отсутствие дохода, что кажется логичным для данных о рекламном доходе."
   ]
  },
  {
   "cell_type": "code",
   "execution_count": 12,
   "id": "3083961f",
   "metadata": {},
   "outputs": [
    {
     "data": {
      "text/plain": [
       "install_date     0\n",
       "event_date       0\n",
       "event_revenue    0\n",
       "platform         0\n",
       "user_id          0\n",
       "dtype: int64"
      ]
     },
     "execution_count": 12,
     "metadata": {},
     "output_type": "execute_result"
    }
   ],
   "source": [
    "ad_revenue['event_revenue'] = ad_revenue['event_revenue'].fillna(0)\n",
    "ad_revenue.isnull().sum()\n"
   ]
  },
  {
   "cell_type": "code",
   "execution_count": 13,
   "id": "6035a5dd",
   "metadata": {},
   "outputs": [
    {
     "name": "stdout",
     "output_type": "stream",
     "text": [
      "<class 'pandas.core.frame.DataFrame'>\n",
      "RangeIndex: 78723 entries, 0 to 78722\n",
      "Data columns (total 5 columns):\n",
      " #   Column         Non-Null Count  Dtype         \n",
      "---  ------         --------------  -----         \n",
      " 0   install_date   78723 non-null  datetime64[ns]\n",
      " 1   event_date     78723 non-null  datetime64[ns]\n",
      " 2   event_revenue  78723 non-null  float64       \n",
      " 3   platform       78723 non-null  object        \n",
      " 4   user_id        78723 non-null  object        \n",
      "dtypes: datetime64[ns](2), float64(1), object(2)\n",
      "memory usage: 3.0+ MB\n"
     ]
    }
   ],
   "source": [
    "ad_revenue.info()"
   ]
  },
  {
   "cell_type": "markdown",
   "id": "20a0b794",
   "metadata": {},
   "source": [
    "#### Предварительный анализ столбца `platform` в `ad_revenue`"
   ]
  },
  {
   "cell_type": "code",
   "execution_count": 14,
   "id": "7f97e51e",
   "metadata": {
    "scrolled": true
   },
   "outputs": [
    {
     "data": {
      "text/plain": [
       "array(['android', 'ios'], dtype=object)"
      ]
     },
     "execution_count": 14,
     "metadata": {},
     "output_type": "execute_result"
    }
   ],
   "source": [
    "# всего уникальных значений\n",
    "ad_revenue['platform'].unique()"
   ]
  },
  {
   "cell_type": "code",
   "execution_count": 15,
   "id": "6dd7af84",
   "metadata": {
    "scrolled": false
   },
   "outputs": [
    {
     "data": {
      "text/plain": [
       "android    72360\n",
       "ios         6363\n",
       "Name: platform, dtype: int64"
      ]
     },
     "execution_count": 15,
     "metadata": {},
     "output_type": "execute_result"
    }
   ],
   "source": [
    "# количество пользователей в каждом уникальном значении\n",
    "ad_revenue['platform'].value_counts()"
   ]
  },
  {
   "cell_type": "code",
   "execution_count": 16,
   "id": "6401024b",
   "metadata": {
    "scrolled": false
   },
   "outputs": [
    {
     "data": {
      "image/png": "[encoded data removed]",
      "text/plain": [
       "<Figure size 640x480 with 1 Axes>"
      ]
     },
     "metadata": {},
     "output_type": "display_data"
    }
   ],
   "source": [
    "# график количества пользователей в каждой платформе\n",
    "sns.countplot(x='platform', data=ad_revenue)\n",
    "plt.title('Распределение событий по платформам')\n",
    "plt.xlabel('Платформа')\n",
    "plt.ylabel('Количество событий')\n",
    "plt.show()"
   ]
  },
  {
   "cell_type": "code",
   "execution_count": 17,
   "id": "19757ab3",
   "metadata": {
    "scrolled": true
   },
   "outputs": [
    {
     "data": {
      "text/html": [
       "<div>\n",
       "<style scoped>\n",
       "    .dataframe tbody tr th:only-of-type {\n",
       "        vertical-align: middle;\n",
       "    }\n",
       "\n",
       "    .dataframe tbody tr th {\n",
       "        vertical-align: top;\n",
       "    }\n",
       "\n",
       "    .dataframe thead th {\n",
       "        text-align: right;\n",
       "    }\n",
       "</style>\n",
       "<table border=\"1\" class=\"dataframe\">\n",
       "  <thead>\n",
       "    <tr style=\"text-align: right;\">\n",
       "      <th></th>\n",
       "      <th>platform</th>\n",
       "      <th>event_revenue</th>\n",
       "    </tr>\n",
       "  </thead>\n",
       "  <tbody>\n",
       "    <tr>\n",
       "      <th>0</th>\n",
       "      <td>android</td>\n",
       "      <td>7813.908686</td>\n",
       "    </tr>\n",
       "    <tr>\n",
       "      <th>1</th>\n",
       "      <td>ios</td>\n",
       "      <td>874.936242</td>\n",
       "    </tr>\n",
       "  </tbody>\n",
       "</table>\n",
       "</div>"
      ],
      "text/plain": [
       "  platform  event_revenue\n",
       "0  android    7813.908686\n",
       "1      ios     874.936242"
      ]
     },
     "execution_count": 17,
     "metadata": {},
     "output_type": "execute_result"
    }
   ],
   "source": [
    "# суммарный доход от каждой платфоры\n",
    "data_platform = ad_revenue.groupby('platform')['event_revenue'].sum().reset_index()\n",
    "data_platform"
   ]
  },
  {
   "cell_type": "code",
   "execution_count": 18,
   "id": "c261582b",
   "metadata": {},
   "outputs": [
    {
     "data": {
      "image/png": "[encoded data removed]",
      "text/plain": [
       "<Figure size 640x480 with 1 Axes>"
      ]
     },
     "metadata": {},
     "output_type": "display_data"
    }
   ],
   "source": [
    "# график суммарного дохода по платформам\n",
    "sns.barplot(x='platform', y='event_revenue', data=data_platform)\n",
    "plt.title('Суммарный доход от событий по платформам')\n",
    "plt.xlabel('Платформа')\n",
    "plt.ylabel('Суммарный доход')\n",
    "plt.show()"
   ]
  },
  {
   "cell_type": "markdown",
   "id": "0abf4b98",
   "metadata": {},
   "source": [
    "#### Предварительный анализ столбца `install_date` в `ad_revenue`"
   ]
  },
  {
   "cell_type": "code",
   "execution_count": 19,
   "id": "7182bc04",
   "metadata": {},
   "outputs": [
    {
     "data": {
      "text/plain": [
       "8"
      ]
     },
     "execution_count": 19,
     "metadata": {},
     "output_type": "execute_result"
    }
   ],
   "source": [
    "# выясяем количество представленных дней\n",
    "ad_revenue['install_date'].nunique()"
   ]
  },
  {
   "cell_type": "code",
   "execution_count": 20,
   "id": "91751662",
   "metadata": {
    "scrolled": true
   },
   "outputs": [
    {
     "data": {
      "text/plain": [
       "2023-09-26    14808\n",
       "2023-09-25    13427\n",
       "2023-09-27    12685\n",
       "2023-09-28    10364\n",
       "2023-09-24     8957\n",
       "2023-09-23     6475\n",
       "2023-09-21     6062\n",
       "2023-09-22     5945\n",
       "Name: install_date, dtype: int64"
      ]
     },
     "execution_count": 20,
     "metadata": {},
     "output_type": "execute_result"
    }
   ],
   "source": [
    "# количество событий на каждый день установки\n",
    "ad_revenue['install_date'].value_counts()"
   ]
  },
  {
   "cell_type": "code",
   "execution_count": 21,
   "id": "ce441e62",
   "metadata": {
    "scrolled": false
   },
   "outputs": [
    {
     "data": {
      "image/png": "[encoded data removed]",
      "text/plain": [
       "<Figure size 640x480 with 1 Axes>"
      ]
     },
     "metadata": {},
     "output_type": "display_data"
    }
   ],
   "source": [
    "# Количество событий по датам установки\n",
    "ad_revenue.groupby('install_date').size().plot(kind='line')\n",
    "plt.title('Количество событий по датам установки')\n",
    "plt.xlabel('Дата установки')\n",
    "plt.ylabel('Количество пользователей')\n",
    "plt.show()"
   ]
  },
  {
   "cell_type": "code",
   "execution_count": 22,
   "id": "f7b0b3be",
   "metadata": {},
   "outputs": [
    {
     "name": "stdout",
     "output_type": "stream",
     "text": [
      "install_date\n",
      "2023-09-21     621\n",
      "2023-09-22     595\n",
      "2023-09-23     548\n",
      "2023-09-24     765\n",
      "2023-09-25    1212\n",
      "2023-09-26    1442\n",
      "2023-09-27    1456\n",
      "2023-09-28    1379\n",
      "Name: user_id, dtype: int64\n"
     ]
    },
    {
     "data": {
      "image/png": "[encoded data removed]",
      "text/plain": [
       "<Figure size 640x480 with 1 Axes>"
      ]
     },
     "metadata": {},
     "output_type": "display_data"
    }
   ],
   "source": [
    "# Количество уникальных пользователей по датам установки\n",
    "print(ad_revenue.groupby('install_date')['user_id'].nunique())\n",
    "\n",
    "ad_revenue.groupby('install_date')['user_id'].nunique().plot(kind='line')\n",
    "plt.title('Количество пользователей по датам установки')\n",
    "plt.xlabel('Дата установки')\n",
    "plt.ylabel('Количество уникальных пользователей')\n",
    "plt.show()"
   ]
  },
  {
   "cell_type": "markdown",
   "id": "bdf8abb2",
   "metadata": {},
   "source": [
    "Участники добавлялись 8 дней. Пик количества событий в приложении был достигнут *2023-09-26* и составил *14808* события."
   ]
  },
  {
   "cell_type": "markdown",
   "id": "381abe17",
   "metadata": {},
   "source": [
    "#### Предварительный анализ столбца `event_date` в `ad_revenue`"
   ]
  },
  {
   "cell_type": "code",
   "execution_count": 23,
   "id": "803d5f3e",
   "metadata": {
    "scrolled": true
   },
   "outputs": [
    {
     "data": {
      "text/plain": [
       "10"
      ]
     },
     "execution_count": 23,
     "metadata": {},
     "output_type": "execute_result"
    }
   ],
   "source": [
    "# выясяем количество представленных дней\n",
    "ad_revenue['event_date'].nunique()"
   ]
  },
  {
   "cell_type": "code",
   "execution_count": 24,
   "id": "dfbf2499",
   "metadata": {},
   "outputs": [
    {
     "data": {
      "text/plain": [
       "2023-09-28    14109\n",
       "2023-09-27    13036\n",
       "2023-09-26    11629\n",
       "2023-09-25     8916\n",
       "2023-09-29     8757\n",
       "2023-09-30     6352\n",
       "2023-09-24     6111\n",
       "2023-09-23     4102\n",
       "2023-09-22     3460\n",
       "2023-09-21     2251\n",
       "Name: event_date, dtype: int64"
      ]
     },
     "execution_count": 24,
     "metadata": {},
     "output_type": "execute_result"
    }
   ],
   "source": [
    "# количество пользователей совершивших событие по дням\n",
    "ad_revenue['event_date'].value_counts()"
   ]
  },
  {
   "cell_type": "code",
   "execution_count": 25,
   "id": "f66dae4d",
   "metadata": {},
   "outputs": [
    {
     "data": {
      "image/png": "[encoded data removed]",
      "text/plain": [
       "<Figure size 640x480 with 1 Axes>"
      ]
     },
     "metadata": {},
     "output_type": "display_data"
    }
   ],
   "source": [
    "# Количество пользователей по датам события\n",
    "ad_revenue.groupby('event_date').size().plot(kind='line')\n",
    "plt.title('Количество пользователей по датам события')\n",
    "plt.xlabel('Дата события')\n",
    "plt.ylabel('Количество пользователей')\n",
    "plt.show()"
   ]
  },
  {
   "cell_type": "code",
   "execution_count": 26,
   "id": "a5120309",
   "metadata": {
    "scrolled": true
   },
   "outputs": [
    {
     "data": {
      "text/plain": [
       "event_date\n",
       "2023-09-28    1542.643879\n",
       "2023-09-27    1489.934935\n",
       "2023-09-26    1281.865054\n",
       "2023-09-25    1015.238850\n",
       "2023-09-29     879.296382\n",
       "2023-09-24     721.169231\n",
       "2023-09-30     649.784867\n",
       "2023-09-23     466.393848\n",
       "2023-09-22     390.676763\n",
       "2023-09-21     251.841119\n",
       "Name: event_revenue, dtype: float64"
      ]
     },
     "execution_count": 26,
     "metadata": {},
     "output_type": "execute_result"
    }
   ],
   "source": [
    "# суммарный доход от рекламы по датам с событием\n",
    "date_sum_revenue = ad_revenue.groupby('event_date')['event_revenue'].sum().sort_values(ascending=False)\n",
    "date_sum_revenue"
   ]
  },
  {
   "cell_type": "code",
   "execution_count": 27,
   "id": "b96728d1",
   "metadata": {
    "scrolled": false
   },
   "outputs": [
    {
     "data": {
      "image/png": "[encoded data removed]",
      "text/plain": [
       "<Figure size 1200x600 with 1 Axes>"
      ]
     },
     "metadata": {},
     "output_type": "display_data"
    }
   ],
   "source": [
    "# график общего дохода по датам с событием\n",
    "plt.figure(figsize=(12, 6))\n",
    "sns.lineplot(x=date_sum_revenue.index, y=date_sum_revenue.values)\n",
    "plt.xticks(rotation=45)  # Поворот меток на оси X для лучшей читаемости\n",
    "plt.title('Общий доход от пользователей по датам событий')\n",
    "plt.xlabel('Дата события')\n",
    "plt.ylabel('Общий доход')\n",
    "plt.show()"
   ]
  },
  {
   "cell_type": "markdown",
   "id": "2faf7bd1",
   "metadata": {},
   "source": [
    "#### Вывод по предварительному анализу `ad_revenue`\n",
    "\n",
    "В таблице с данными по рекламному заработку `ad_revenue` представлены 8 дат установки приложения `install_date`, участники добавлялись 8 дней. Пик количества установивших приложение был достигнут *2023-09-26* и составил *14808* пользователей. Также наблюдается 10 дат с совершеным событием `event_date`. Максимальный доход получен *2023-09-28*, минимальный *2023-09-21*, что в целом прямопропорционально количеству пользователей совершившим события по дням. То есть, чем больше пользователей совершили событие в этот день, то тем больше выручка за этот день.\n",
    "\n",
    "В колонке с платформой `platform` имеется две платформы установки приложения:\n",
    "- `android`\n",
    "- `ios`\n",
    "\n",
    "Где `android` превосходит `ios` по количеству пользователей в 11 раз, по суммарному доходу в 9 раз. Приложение в `android` пользуется большей популярностью.\n"
   ]
  },
  {
   "cell_type": "markdown",
   "id": "9003b875",
   "metadata": {},
   "source": [
    "### Знакомство со второй таблицей `installs`"
   ]
  },
  {
   "cell_type": "code",
   "execution_count": 28,
   "id": "3dfdea60",
   "metadata": {
    "scrolled": true
   },
   "outputs": [
    {
     "data": {
      "text/html": [
       "<div>\n",
       "<style scoped>\n",
       "    .dataframe tbody tr th:only-of-type {\n",
       "        vertical-align: middle;\n",
       "    }\n",
       "\n",
       "    .dataframe tbody tr th {\n",
       "        vertical-align: top;\n",
       "    }\n",
       "\n",
       "    .dataframe thead th {\n",
       "        text-align: right;\n",
       "    }\n",
       "</style>\n",
       "<table border=\"1\" class=\"dataframe\">\n",
       "  <thead>\n",
       "    <tr style=\"text-align: right;\">\n",
       "      <th></th>\n",
       "      <th>install_date</th>\n",
       "      <th>installs</th>\n",
       "      <th>platform</th>\n",
       "    </tr>\n",
       "  </thead>\n",
       "  <tbody>\n",
       "    <tr>\n",
       "      <th>0</th>\n",
       "      <td>2023-09-21</td>\n",
       "      <td>1</td>\n",
       "      <td>android</td>\n",
       "    </tr>\n",
       "    <tr>\n",
       "      <th>1</th>\n",
       "      <td>2023-09-21</td>\n",
       "      <td>0</td>\n",
       "      <td>android</td>\n",
       "    </tr>\n",
       "    <tr>\n",
       "      <th>2</th>\n",
       "      <td>2023-09-21</td>\n",
       "      <td>47</td>\n",
       "      <td>android</td>\n",
       "    </tr>\n",
       "    <tr>\n",
       "      <th>3</th>\n",
       "      <td>2023-09-21</td>\n",
       "      <td>0</td>\n",
       "      <td>android</td>\n",
       "    </tr>\n",
       "    <tr>\n",
       "      <th>4</th>\n",
       "      <td>2023-09-21</td>\n",
       "      <td>0</td>\n",
       "      <td>android</td>\n",
       "    </tr>\n",
       "  </tbody>\n",
       "</table>\n",
       "</div>"
      ],
      "text/plain": [
       "  install_date  installs platform\n",
       "0   2023-09-21         1  android\n",
       "1   2023-09-21         0  android\n",
       "2   2023-09-21        47  android\n",
       "3   2023-09-21         0  android\n",
       "4   2023-09-21         0  android"
      ]
     },
     "execution_count": 28,
     "metadata": {},
     "output_type": "execute_result"
    }
   ],
   "source": [
    "installs.head()"
   ]
  },
  {
   "cell_type": "code",
   "execution_count": 29,
   "id": "fb7877ef",
   "metadata": {
    "scrolled": true
   },
   "outputs": [
    {
     "name": "stdout",
     "output_type": "stream",
     "text": [
      "<class 'pandas.core.frame.DataFrame'>\n",
      "RangeIndex: 579 entries, 0 to 578\n",
      "Data columns (total 3 columns):\n",
      " #   Column        Non-Null Count  Dtype         \n",
      "---  ------        --------------  -----         \n",
      " 0   install_date  579 non-null    datetime64[ns]\n",
      " 1   installs      579 non-null    int64         \n",
      " 2   platform      579 non-null    object        \n",
      "dtypes: datetime64[ns](1), int64(1), object(1)\n",
      "memory usage: 13.7+ KB\n"
     ]
    }
   ],
   "source": [
    "installs.info()"
   ]
  },
  {
   "cell_type": "code",
   "execution_count": 30,
   "id": "ad1c7728",
   "metadata": {
    "scrolled": false
   },
   "outputs": [
    {
     "data": {
      "text/plain": [
       "install_date\n",
       "2023-09-21     718\n",
       "2023-09-22     671\n",
       "2023-09-23     693\n",
       "2023-09-24     891\n",
       "2023-09-25    1349\n",
       "2023-09-26    1612\n",
       "2023-09-27    1649\n",
       "2023-09-28    1594\n",
       "Name: installs, dtype: int64"
      ]
     },
     "execution_count": 30,
     "metadata": {},
     "output_type": "execute_result"
    }
   ],
   "source": [
    "# определяем количество пользователей на каждый день установки \n",
    "date_installs = installs.groupby('install_date')['installs'].sum()\n",
    "date_installs"
   ]
  },
  {
   "cell_type": "code",
   "execution_count": 31,
   "id": "6dc047bb",
   "metadata": {},
   "outputs": [
    {
     "data": {
      "text/plain": [
       "install_date\n",
       "2023-09-21     621\n",
       "2023-09-22     595\n",
       "2023-09-23     548\n",
       "2023-09-24     765\n",
       "2023-09-25    1212\n",
       "2023-09-26    1442\n",
       "2023-09-27    1456\n",
       "2023-09-28    1379\n",
       "Name: user_id, dtype: int64"
      ]
     },
     "execution_count": 31,
     "metadata": {},
     "output_type": "execute_result"
    }
   ],
   "source": [
    "# количество уникальных пользователей из таблицы ad_revenue по датам установки приложения\n",
    "ad_revenue.groupby('install_date')['user_id'].nunique()"
   ]
  },
  {
   "cell_type": "markdown",
   "id": "33dc1cc4",
   "metadata": {},
   "source": [
    "**Количество установок из таблицы `installs` больше количества уникальных пользователей из таблицы `ad_revenue`.** Это верный признак того, что данные верны. Количество установок игры больше коичества целевых действий пользователей. Не все установившие игру сыграли в нее хотя бы один раз."
   ]
  },
  {
   "cell_type": "code",
   "execution_count": 32,
   "id": "7a7eb164",
   "metadata": {},
   "outputs": [
    {
     "data": {
      "image/png": "[encoded data removed]",
      "text/plain": [
       "<Figure size 640x480 with 1 Axes>"
      ]
     },
     "metadata": {},
     "output_type": "display_data"
    }
   ],
   "source": [
    "date_installs.plot(kind='line')\n",
    "plt.title('Количество установок по датам')\n",
    "plt.xlabel('Дата события')\n",
    "plt.ylabel('Количество установок')\n",
    "plt.show()"
   ]
  },
  {
   "cell_type": "code",
   "execution_count": 33,
   "id": "70f883ad",
   "metadata": {
    "scrolled": false
   },
   "outputs": [
    {
     "data": {
      "text/html": [
       "<div>\n",
       "<style scoped>\n",
       "    .dataframe tbody tr th:only-of-type {\n",
       "        vertical-align: middle;\n",
       "    }\n",
       "\n",
       "    .dataframe tbody tr th {\n",
       "        vertical-align: top;\n",
       "    }\n",
       "\n",
       "    .dataframe thead th {\n",
       "        text-align: right;\n",
       "    }\n",
       "</style>\n",
       "<table border=\"1\" class=\"dataframe\">\n",
       "  <thead>\n",
       "    <tr style=\"text-align: right;\">\n",
       "      <th>platform</th>\n",
       "      <th>android</th>\n",
       "      <th>ios</th>\n",
       "    </tr>\n",
       "    <tr>\n",
       "      <th>install_date</th>\n",
       "      <th></th>\n",
       "      <th></th>\n",
       "    </tr>\n",
       "  </thead>\n",
       "  <tbody>\n",
       "    <tr>\n",
       "      <th>2023-09-21</th>\n",
       "      <td>578</td>\n",
       "      <td>140</td>\n",
       "    </tr>\n",
       "    <tr>\n",
       "      <th>2023-09-22</th>\n",
       "      <td>530</td>\n",
       "      <td>141</td>\n",
       "    </tr>\n",
       "    <tr>\n",
       "      <th>2023-09-23</th>\n",
       "      <td>520</td>\n",
       "      <td>173</td>\n",
       "    </tr>\n",
       "    <tr>\n",
       "      <th>2023-09-24</th>\n",
       "      <td>764</td>\n",
       "      <td>127</td>\n",
       "    </tr>\n",
       "    <tr>\n",
       "      <th>2023-09-25</th>\n",
       "      <td>1258</td>\n",
       "      <td>91</td>\n",
       "    </tr>\n",
       "    <tr>\n",
       "      <th>2023-09-26</th>\n",
       "      <td>1465</td>\n",
       "      <td>147</td>\n",
       "    </tr>\n",
       "    <tr>\n",
       "      <th>2023-09-27</th>\n",
       "      <td>1451</td>\n",
       "      <td>198</td>\n",
       "    </tr>\n",
       "    <tr>\n",
       "      <th>2023-09-28</th>\n",
       "      <td>1380</td>\n",
       "      <td>214</td>\n",
       "    </tr>\n",
       "  </tbody>\n",
       "</table>\n",
       "</div>"
      ],
      "text/plain": [
       "platform      android  ios\n",
       "install_date              \n",
       "2023-09-21        578  140\n",
       "2023-09-22        530  141\n",
       "2023-09-23        520  173\n",
       "2023-09-24        764  127\n",
       "2023-09-25       1258   91\n",
       "2023-09-26       1465  147\n",
       "2023-09-27       1451  198\n",
       "2023-09-28       1380  214"
      ]
     },
     "execution_count": 33,
     "metadata": {},
     "output_type": "execute_result"
    }
   ],
   "source": [
    "# таблица по платформам для каждой когорты\n",
    "cohorts_by_platform = pd.pivot_table(installs, values='installs', index='install_date', columns='platform', aggfunc='sum')\n",
    "cohorts_by_platform"
   ]
  },
  {
   "cell_type": "code",
   "execution_count": 34,
   "id": "7ec3648a",
   "metadata": {},
   "outputs": [
    {
     "data": {
      "image/png": "[encoded data removed]",
      "text/plain": [
       "<Figure size 640x480 with 1 Axes>"
      ]
     },
     "metadata": {},
     "output_type": "display_data"
    }
   ],
   "source": [
    "cohorts_by_platform.plot(kind='line')\n",
    "plt.title('Количество установок с каждой платформы по датам')\n",
    "plt.xlabel('Дата события')\n",
    "plt.ylabel('Количество установок')\n",
    "plt.show()"
   ]
  },
  {
   "cell_type": "markdown",
   "id": "8d08d226",
   "metadata": {},
   "source": [
    "**Вывод:**\n",
    "\n",
    "В данных по количеству инсталлов `installs` наблюдается 8 дат. Максимальное количество инсталлов наблюдается *2023-09-27* (7 день из 8-ми), минимальное *2023-09-22* (2 день из 8-ми). В каждый из дней существенно лидирует платформа `android`."
   ]
  },
  {
   "cell_type": "markdown",
   "id": "21b0fd27",
   "metadata": {},
   "source": [
    "## Анализ изменения ревеню в первый месяц жизни у пользователей игры\n"
   ]
  },
  {
   "cell_type": "code",
   "execution_count": 35,
   "id": "8600e9cd",
   "metadata": {
    "scrolled": false
   },
   "outputs": [
    {
     "data": {
      "text/html": [
       "<div>\n",
       "<style scoped>\n",
       "    .dataframe tbody tr th:only-of-type {\n",
       "        vertical-align: middle;\n",
       "    }\n",
       "\n",
       "    .dataframe tbody tr th {\n",
       "        vertical-align: top;\n",
       "    }\n",
       "\n",
       "    .dataframe thead th {\n",
       "        text-align: right;\n",
       "    }\n",
       "</style>\n",
       "<table border=\"1\" class=\"dataframe\">\n",
       "  <thead>\n",
       "    <tr style=\"text-align: right;\">\n",
       "      <th></th>\n",
       "      <th>install_date</th>\n",
       "      <th>event_date</th>\n",
       "      <th>event_revenue</th>\n",
       "      <th>platform</th>\n",
       "      <th>user_id</th>\n",
       "      <th>days_since_install</th>\n",
       "    </tr>\n",
       "  </thead>\n",
       "  <tbody>\n",
       "    <tr>\n",
       "      <th>0</th>\n",
       "      <td>2023-09-21</td>\n",
       "      <td>2023-09-21</td>\n",
       "      <td>0.316470</td>\n",
       "      <td>android</td>\n",
       "      <td>1695339148585-8391306266630234966</td>\n",
       "      <td>0</td>\n",
       "    </tr>\n",
       "    <tr>\n",
       "      <th>1</th>\n",
       "      <td>2023-09-21</td>\n",
       "      <td>2023-09-21</td>\n",
       "      <td>0.063103</td>\n",
       "      <td>android</td>\n",
       "      <td>1695280270975-5411644856462553821</td>\n",
       "      <td>0</td>\n",
       "    </tr>\n",
       "    <tr>\n",
       "      <th>2</th>\n",
       "      <td>2023-09-21</td>\n",
       "      <td>2023-09-21</td>\n",
       "      <td>0.316470</td>\n",
       "      <td>android</td>\n",
       "      <td>1695317488398-8939481192662600393</td>\n",
       "      <td>0</td>\n",
       "    </tr>\n",
       "    <tr>\n",
       "      <th>3</th>\n",
       "      <td>2023-09-21</td>\n",
       "      <td>2023-09-21</td>\n",
       "      <td>0.054710</td>\n",
       "      <td>android</td>\n",
       "      <td>1695317488398-8939481192662600393</td>\n",
       "      <td>0</td>\n",
       "    </tr>\n",
       "    <tr>\n",
       "      <th>4</th>\n",
       "      <td>2023-09-21</td>\n",
       "      <td>2023-09-21</td>\n",
       "      <td>0.024880</td>\n",
       "      <td>android</td>\n",
       "      <td>1695280270975-5411644856462553821</td>\n",
       "      <td>0</td>\n",
       "    </tr>\n",
       "  </tbody>\n",
       "</table>\n",
       "</div>"
      ],
      "text/plain": [
       "  install_date event_date  event_revenue platform  \\\n",
       "0   2023-09-21 2023-09-21       0.316470  android   \n",
       "1   2023-09-21 2023-09-21       0.063103  android   \n",
       "2   2023-09-21 2023-09-21       0.316470  android   \n",
       "3   2023-09-21 2023-09-21       0.054710  android   \n",
       "4   2023-09-21 2023-09-21       0.024880  android   \n",
       "\n",
       "                             user_id  days_since_install  \n",
       "0  1695339148585-8391306266630234966                   0  \n",
       "1  1695280270975-5411644856462553821                   0  \n",
       "2  1695317488398-8939481192662600393                   0  \n",
       "3  1695317488398-8939481192662600393                   0  \n",
       "4  1695280270975-5411644856462553821                   0  "
      ]
     },
     "execution_count": 35,
     "metadata": {},
     "output_type": "execute_result"
    }
   ],
   "source": [
    "# расчет количества дней с момента установки до даты события в новый столбец\n",
    "ad_revenue['days_since_install'] = (ad_revenue['event_date'] - ad_revenue['install_date']).dt.days\n",
    "ad_revenue.head()"
   ]
  },
  {
   "cell_type": "code",
   "execution_count": 36,
   "id": "33eaef1b",
   "metadata": {
    "scrolled": true
   },
   "outputs": [
    {
     "data": {
      "text/html": [
       "<div>\n",
       "<style scoped>\n",
       "    .dataframe tbody tr th:only-of-type {\n",
       "        vertical-align: middle;\n",
       "    }\n",
       "\n",
       "    .dataframe tbody tr th {\n",
       "        vertical-align: top;\n",
       "    }\n",
       "\n",
       "    .dataframe thead th {\n",
       "        text-align: right;\n",
       "    }\n",
       "</style>\n",
       "<table border=\"1\" class=\"dataframe\">\n",
       "  <thead>\n",
       "    <tr style=\"text-align: right;\">\n",
       "      <th></th>\n",
       "      <th>days_since_install</th>\n",
       "      <th>event_revenue</th>\n",
       "    </tr>\n",
       "  </thead>\n",
       "  <tbody>\n",
       "    <tr>\n",
       "      <th>0</th>\n",
       "      <td>0</td>\n",
       "      <td>4340.317628</td>\n",
       "    </tr>\n",
       "    <tr>\n",
       "      <th>1</th>\n",
       "      <td>1</td>\n",
       "      <td>1763.112779</td>\n",
       "    </tr>\n",
       "    <tr>\n",
       "      <th>2</th>\n",
       "      <td>2</td>\n",
       "      <td>1017.591277</td>\n",
       "    </tr>\n",
       "    <tr>\n",
       "      <th>3</th>\n",
       "      <td>3</td>\n",
       "      <td>677.360541</td>\n",
       "    </tr>\n",
       "    <tr>\n",
       "      <th>4</th>\n",
       "      <td>4</td>\n",
       "      <td>419.001194</td>\n",
       "    </tr>\n",
       "    <tr>\n",
       "      <th>5</th>\n",
       "      <td>5</td>\n",
       "      <td>218.080831</td>\n",
       "    </tr>\n",
       "    <tr>\n",
       "      <th>6</th>\n",
       "      <td>6</td>\n",
       "      <td>125.446646</td>\n",
       "    </tr>\n",
       "    <tr>\n",
       "      <th>7</th>\n",
       "      <td>7</td>\n",
       "      <td>70.301701</td>\n",
       "    </tr>\n",
       "    <tr>\n",
       "      <th>8</th>\n",
       "      <td>8</td>\n",
       "      <td>43.807377</td>\n",
       "    </tr>\n",
       "    <tr>\n",
       "      <th>9</th>\n",
       "      <td>9</td>\n",
       "      <td>13.824954</td>\n",
       "    </tr>\n",
       "  </tbody>\n",
       "</table>\n",
       "</div>"
      ],
      "text/plain": [
       "   days_since_install  event_revenue\n",
       "0                   0    4340.317628\n",
       "1                   1    1763.112779\n",
       "2                   2    1017.591277\n",
       "3                   3     677.360541\n",
       "4                   4     419.001194\n",
       "5                   5     218.080831\n",
       "6                   6     125.446646\n",
       "7                   7      70.301701\n",
       "8                   8      43.807377\n",
       "9                   9      13.824954"
      ]
     },
     "execution_count": 36,
     "metadata": {},
     "output_type": "execute_result"
    }
   ],
   "source": [
    "# суммирование ревеню по количеству дней с момента установки\n",
    "daily_revenue_since_install = ad_revenue.groupby('days_since_install')['event_revenue'].sum().reset_index()\n",
    "\n",
    "daily_revenue_since_install"
   ]
  },
  {
   "cell_type": "code",
   "execution_count": 37,
   "id": "3e24fd10",
   "metadata": {},
   "outputs": [
    {
     "data": {
      "image/png": "[encoded data removed]",
      "text/plain": [
       "<Figure size 640x480 with 1 Axes>"
      ]
     },
     "metadata": {},
     "output_type": "display_data"
    }
   ],
   "source": [
    "# график суммарного ревеню по количеству дней после установки\n",
    "sns.lineplot(x='days_since_install', y='event_revenue', data=daily_revenue_since_install)\n",
    "plt.title('Ежедневный суммарный доход с момента установки')\n",
    "plt.xlabel('Дней с установки')\n",
    "plt.ylabel('Общий доход')\n",
    "plt.grid(True)\n",
    "plt.show()"
   ]
  },
  {
   "cell_type": "markdown",
   "id": "df58418a",
   "metadata": {},
   "source": [
    "Из графика видно, что доход после первого дня падает более чем вдвое и продолжает убывать с течением времени. "
   ]
  },
  {
   "cell_type": "markdown",
   "id": "e3fb03f6",
   "metadata": {},
   "source": [
    "Учитывая, что доход уменьшается экспоненциально, *модель экспоненциального затухания* может быть наиболее точной для прогнозирования будущих значений ревеню. Экспоненциальное затухание хорошо подходит для ситуаций, когда величина быстро уменьшается и затем стабилизируется. Сделаем прогноз до 30 дня.\n",
    "\n",
    "Для этого мы можем использовать формулу:\n",
    "\n",
    "y = a * e ** (b * x)\n",
    "\n",
    "где:\n",
    "\n",
    "y — прогнозируемый ревеню,\n",
    "\n",
    "x — количество дней с момента установки,\n",
    "\n",
    "a и b — параметры модели, которые определяются на основе данных."
   ]
  },
  {
   "cell_type": "code",
   "execution_count": 38,
   "id": "151d03be",
   "metadata": {
    "scrolled": true
   },
   "outputs": [
    {
     "name": "stdout",
     "output_type": "stream",
     "text": [
      "a = 4241.60690435137\n",
      "b = -0.7252968147504519\n"
     ]
    }
   ],
   "source": [
    "# функция экспоненциального затухания\n",
    "def exp_attenuation(x, a, b):\n",
    "    return a * np.exp(b * x)\n",
    "\n",
    "# последовательность значений НЕЗАВИСИМОЙ переменной\n",
    "x_data = daily_revenue_since_install['days_since_install']\n",
    "\n",
    "# последовательность значений ЗАВИСИМОЙ переменной\n",
    "y_data = daily_revenue_since_install['event_revenue']\n",
    "\n",
    "# рассчет параметров для функции экспоненциального затухания (без ковариационной матрицы)\n",
    "params, _ = curve_fit(exp_attenuation, x_data, y_data, p0=(1, -0.1))\n",
    "\n",
    "# присвоение полученных параметров переменным a, b из функции exp_attenuation \n",
    "a, b = params\n",
    "\n",
    "# вывод полученных значений\n",
    "print('a =', a)\n",
    "print('b =', b)"
   ]
  },
  {
   "cell_type": "markdown",
   "id": "88a04ce6",
   "metadata": {},
   "source": [
    "Теперь можно использовать эту модель для прогнозирования ревеню на 30-й день.\n",
    "\n",
    "Сначала прогнозируем ревеню для 30-го дня, а затем рассчитаем, во сколько раз увеличится ревеню 0-го, 1-го и 3-го дней к 30-му дню."
   ]
  },
  {
   "cell_type": "code",
   "execution_count": 39,
   "id": "2e5f7827",
   "metadata": {
    "scrolled": false
   },
   "outputs": [
    {
     "data": {
      "text/plain": [
       "(1.5057687705148642e-06,\n",
       " 2882459586.7504444,\n",
       " 1170905396.3160245,\n",
       " 449843664.0895346)"
      ]
     },
     "execution_count": 39,
     "metadata": {},
     "output_type": "execute_result"
    }
   ],
   "source": [
    "# прогноз дохода на 30 день\n",
    "revenue_30_day = exp_attenuation(30, a, b)\n",
    "\n",
    "# получаем доход на 0, 1, 3 дни\n",
    "revenue_0_day = daily_revenue_since_install.loc[daily_revenue_since_install['days_since_install'] == 0, 'event_revenue'].values[0]\n",
    "revenue_1_day = daily_revenue_since_install.loc[daily_revenue_since_install['days_since_install'] == 1, 'event_revenue'].values[0]\n",
    "revenue_3_day = daily_revenue_since_install.loc[daily_revenue_since_install['days_since_install'] == 3, 'event_revenue'].values[0]\n",
    "\n",
    "# расчет увеличения дохода 0, 1, 3 дня к 30\n",
    "increase_0_day = revenue_0_day / revenue_30_day \n",
    "increase_1_day = revenue_1_day / revenue_30_day \n",
    "increase_3_day = revenue_3_day / revenue_30_day \n",
    "\n",
    "revenue_30_day, increase_0_day, increase_1_day, increase_3_day"
   ]
  },
  {
   "cell_type": "code",
   "execution_count": 40,
   "id": "e9d0a3bf",
   "metadata": {},
   "outputs": [
    {
     "data": {
      "image/png": "[encoded data removed]",
      "text/plain": [
       "<Figure size 1000x600 with 1 Axes>"
      ]
     },
     "metadata": {},
     "output_type": "display_data"
    }
   ],
   "source": [
    "days = ['0', '1', '3', '30']\n",
    "revenues = [revenue_0_day, revenue_1_day, revenue_3_day, revenue_30_day]\n",
    "\n",
    "# Построение графика\n",
    "plt.figure(figsize=(10, 6))\n",
    "sns.barplot(x=days, y=revenues)\n",
    "plt.title('Суммарный доход на 0, 1, 3 и 30 день')\n",
    "plt.xlabel('День')\n",
    "plt.ylabel('Суммарный доход')\n",
    "plt.show()"
   ]
  },
  {
   "cell_type": "code",
   "execution_count": 41,
   "id": "2d09cd8a",
   "metadata": {},
   "outputs": [
    {
     "data": {
      "image/png": "[encoded data removed]",
      "text/plain": [
       "<Figure size 1200x600 with 1 Axes>"
      ]
     },
     "metadata": {},
     "output_type": "display_data"
    }
   ],
   "source": [
    "# генерация данных о прогнозируемом доходе с использованием модели экспоненциального затухания.\n",
    "predicted_days = np.arange(0, 31)  # дни с 0 по 30\n",
    "predicted_revenue = exp_attenuation(predicted_days, a, b)\n",
    "\n",
    "# графики реального (10 дней) и спрогнозированного (30 дней) дохода приложения\n",
    "plt.figure(figsize=(12, 6))\n",
    "sns.lineplot(x='days_since_install', y='event_revenue', data=daily_revenue_since_install, label='Реальный доход')\n",
    "sns.lineplot(x=predicted_days, y=predicted_revenue, label='Прогнозируемый доход')\n",
    "plt.title('Реальный и прогнозируемый доход по дням')\n",
    "plt.xlabel('Дней с даты установки')\n",
    "plt.ylabel('Суммарный доход')\n",
    "plt.legend()\n",
    "plt.grid(True)\n",
    "plt.show()"
   ]
  },
  {
   "cell_type": "code",
   "execution_count": 42,
   "id": "dcb61096",
   "metadata": {
    "scrolled": false
   },
   "outputs": [
    {
     "data": {
      "image/png": "[encoded data removed]",
      "text/plain": [
       "<Figure size 800x500 with 1 Axes>"
      ]
     },
     "metadata": {},
     "output_type": "display_data"
    }
   ],
   "source": [
    "# во сколько раз увеличится ревеню нулевого дня (день установки игры), первого и третьего дня к 30-му дню\n",
    "days = [0, 1, 3]\n",
    "increases = [increase_0_day, increase_1_day, increase_3_day]\n",
    "\n",
    "# график увеличения дохода\n",
    "plt.figure(figsize=(8, 5))\n",
    "sns.barplot(x=days, y=increases)\n",
    "plt.title('Разница дохода по дням по сравнению с 30-м днем')\n",
    "plt.xlabel('День')\n",
    "plt.ylabel('Во сколько раз больше доход (млн.)')\n",
    "# plt.yscale('log')  # используем логарифмическую шкалу из-за широкого диапазона значений\n",
    "plt.show()"
   ]
  },
  {
   "cell_type": "markdown",
   "id": "98aa0ce1",
   "metadata": {},
   "source": [
    "## Итоговый вывод"
   ]
  },
  {
   "cell_type": "markdown",
   "id": "7e9523d9",
   "metadata": {},
   "source": [
    "**Вывод:** К 30-му дню прогнозируемый ревеню уменьшился до очень низкого значения, что говорит о значительном снижении интереса пользователей к игре или сокращении времени, проводимого в игре. Ревеню нулевого дня **больше** ревеню 30-го чуть менее, чем в 2.9 млн. раз!\n",
    "\n",
    "Это уменьшение может быть связано с убывающей активностью пользователей, что является общей тенденцией для многих мобильных игр и приложений после первых дней использования."
   ]
  },
  {
   "cell_type": "markdown",
   "id": "0ba33f3d",
   "metadata": {},
   "source": [
    "# Тестовое задание №2\n"
   ]
  },
  {
   "cell_type": "markdown",
   "id": "f55fa99a",
   "metadata": {},
   "source": [
    "Как вы думаете, какие проекты являются основными конкурентами?\n",
    "\n",
    "https://play.google.com/store/apps/details?id=com.matryoshka.cityrescueteam\n",
    "\n",
    "Почему?"
   ]
  },
  {
   "cell_type": "markdown",
   "id": "eaa84b47",
   "metadata": {},
   "source": [
    "Изучил ссылку из задания и создал таблицу с вероятными конкурентами. За конкурентов принимал игры с рейтингом не ниже 4.4, как у целевой игры. Также важным критерием было наличие игры в разделе **Похожие игры**, при этом не далее 3-й ссылки от целевой игры. \n",
    "\n",
    "В колонках представлены следующие данные:\n",
    "- `title` - название игры\n",
    "- `rating` - рейтинг\n",
    "- `cnt_reviews` - количество отзывов\n",
    "- `cnt_download` - количеств скачиваний\n",
    "- `age` - возрастной рейтинг\n",
    "- `genre`- жанр\n",
    "- `casual` - казуальная(да/нет: 1/0)\n",
    "- `singleplayer` - однопользовательская (да/нет: 1/0)\n",
    "- `offline` - оффлайн (да/нет: 1/0)\n",
    "- `publisher` - издетель\n",
    "- `page1` - наличие в разделе `Похожие игры` на первой странице (да/нет: 1/0)"
   ]
  },
  {
   "cell_type": "code",
   "execution_count": 53,
   "id": "75636a11",
   "metadata": {
    "scrolled": false
   },
   "outputs": [
    {
     "data": {
      "text/html": [
       "<div>\n",
       "<style scoped>\n",
       "    .dataframe tbody tr th:only-of-type {\n",
       "        vertical-align: middle;\n",
       "    }\n",
       "\n",
       "    .dataframe tbody tr th {\n",
       "        vertical-align: top;\n",
       "    }\n",
       "\n",
       "    .dataframe thead th {\n",
       "        text-align: right;\n",
       "    }\n",
       "</style>\n",
       "<table border=\"1\" class=\"dataframe\">\n",
       "  <thead>\n",
       "    <tr style=\"text-align: right;\">\n",
       "      <th></th>\n",
       "      <th>title</th>\n",
       "      <th>rating</th>\n",
       "      <th>cnt_reviews</th>\n",
       "      <th>cnt_download</th>\n",
       "      <th>age</th>\n",
       "      <th>genre</th>\n",
       "      <th>casual</th>\n",
       "      <th>singleplayer</th>\n",
       "      <th>offline</th>\n",
       "      <th>publisher</th>\n",
       "      <th>page1</th>\n",
       "    </tr>\n",
       "  </thead>\n",
       "  <tbody>\n",
       "    <tr>\n",
       "      <th>0</th>\n",
       "      <td>Rescue Dash: тайм-менеджмент</td>\n",
       "      <td>4.4</td>\n",
       "      <td>30000</td>\n",
       "      <td>1000000</td>\n",
       "      <td>3+</td>\n",
       "      <td>симулятор</td>\n",
       "      <td>1</td>\n",
       "      <td>1</td>\n",
       "      <td>1</td>\n",
       "      <td>Matryoshka</td>\n",
       "      <td>0</td>\n",
       "    </tr>\n",
       "    <tr>\n",
       "      <th>1</th>\n",
       "      <td>Fiona's Farm</td>\n",
       "      <td>4.4</td>\n",
       "      <td>86000</td>\n",
       "      <td>1000000</td>\n",
       "      <td>3+</td>\n",
       "      <td>головоломка</td>\n",
       "      <td>1</td>\n",
       "      <td>1</td>\n",
       "      <td>1</td>\n",
       "      <td>Ace Academy Teknoloji A.Ş.</td>\n",
       "      <td>1</td>\n",
       "    </tr>\n",
       "    <tr>\n",
       "      <th>2</th>\n",
       "      <td>Goodville: Ферма и экспедиции</td>\n",
       "      <td>4.7</td>\n",
       "      <td>95600</td>\n",
       "      <td>1000000</td>\n",
       "      <td>3+</td>\n",
       "      <td>симулятор</td>\n",
       "      <td>0</td>\n",
       "      <td>1</td>\n",
       "      <td>0</td>\n",
       "      <td>Stork Limited</td>\n",
       "      <td>0</td>\n",
       "    </tr>\n",
       "    <tr>\n",
       "      <th>3</th>\n",
       "      <td>Island Farm Adventure</td>\n",
       "      <td>4.5</td>\n",
       "      <td>6370</td>\n",
       "      <td>500000</td>\n",
       "      <td>3+</td>\n",
       "      <td>симулятор</td>\n",
       "      <td>1</td>\n",
       "      <td>1</td>\n",
       "      <td>1</td>\n",
       "      <td>DailyFun</td>\n",
       "      <td>0</td>\n",
       "    </tr>\n",
       "    <tr>\n",
       "      <th>4</th>\n",
       "      <td>Kong Island: Farm &amp; Survival</td>\n",
       "      <td>4.4</td>\n",
       "      <td>21300</td>\n",
       "      <td>1000000</td>\n",
       "      <td>3+</td>\n",
       "      <td>симулятор</td>\n",
       "      <td>1</td>\n",
       "      <td>1</td>\n",
       "      <td>0</td>\n",
       "      <td>CSCMobi Studios</td>\n",
       "      <td>0</td>\n",
       "    </tr>\n",
       "    <tr>\n",
       "      <th>5</th>\n",
       "      <td>Bermuda Adventures: ферма</td>\n",
       "      <td>4.6</td>\n",
       "      <td>306000</td>\n",
       "      <td>10000000</td>\n",
       "      <td>12+</td>\n",
       "      <td>симулятор</td>\n",
       "      <td>0</td>\n",
       "      <td>1</td>\n",
       "      <td>0</td>\n",
       "      <td>BELKA GAMES</td>\n",
       "      <td>0</td>\n",
       "    </tr>\n",
       "    <tr>\n",
       "      <th>6</th>\n",
       "      <td>Taylor's Secret: Merge story</td>\n",
       "      <td>4.5</td>\n",
       "      <td>6860</td>\n",
       "      <td>100000</td>\n",
       "      <td>3+</td>\n",
       "      <td>головоломка</td>\n",
       "      <td>1</td>\n",
       "      <td>0</td>\n",
       "      <td>0</td>\n",
       "      <td>Merge story</td>\n",
       "      <td>1</td>\n",
       "    </tr>\n",
       "    <tr>\n",
       "      <th>7</th>\n",
       "      <td>Delicious B&amp;B: Decor &amp; Match 3</td>\n",
       "      <td>4.5</td>\n",
       "      <td>51900</td>\n",
       "      <td>1000000</td>\n",
       "      <td>3+</td>\n",
       "      <td>головоломка</td>\n",
       "      <td>1</td>\n",
       "      <td>1</td>\n",
       "      <td>0</td>\n",
       "      <td>GameHouse Original Stories</td>\n",
       "      <td>1</td>\n",
       "    </tr>\n",
       "    <tr>\n",
       "      <th>8</th>\n",
       "      <td>Royal Farm</td>\n",
       "      <td>4.7</td>\n",
       "      <td>121000</td>\n",
       "      <td>5000000</td>\n",
       "      <td>3+</td>\n",
       "      <td>симулятор</td>\n",
       "      <td>0</td>\n",
       "      <td>1</td>\n",
       "      <td>0</td>\n",
       "      <td>UGO Games</td>\n",
       "      <td>0</td>\n",
       "    </tr>\n",
       "    <tr>\n",
       "      <th>9</th>\n",
       "      <td>Farmington – Игра-ферма</td>\n",
       "      <td>4.8</td>\n",
       "      <td>105000</td>\n",
       "      <td>5000000</td>\n",
       "      <td>3+</td>\n",
       "      <td>симулятор</td>\n",
       "      <td>1</td>\n",
       "      <td>1</td>\n",
       "      <td>0</td>\n",
       "      <td>UGO Games</td>\n",
       "      <td>0</td>\n",
       "    </tr>\n",
       "    <tr>\n",
       "      <th>10</th>\n",
       "      <td>Superfarmers：Ферма супергероев</td>\n",
       "      <td>4.6</td>\n",
       "      <td>37000</td>\n",
       "      <td>1000000</td>\n",
       "      <td>3+</td>\n",
       "      <td>симулятор</td>\n",
       "      <td>1</td>\n",
       "      <td>1</td>\n",
       "      <td>0</td>\n",
       "      <td>HeroCraft Ltd.</td>\n",
       "      <td>0</td>\n",
       "    </tr>\n",
       "    <tr>\n",
       "      <th>11</th>\n",
       "      <td>Adventure Bay - Farm Games</td>\n",
       "      <td>4.5</td>\n",
       "      <td>45100</td>\n",
       "      <td>1000000</td>\n",
       "      <td>3+</td>\n",
       "      <td>симулятор</td>\n",
       "      <td>1</td>\n",
       "      <td>1</td>\n",
       "      <td>0</td>\n",
       "      <td>GAMEGOS</td>\n",
       "      <td>0</td>\n",
       "    </tr>\n",
       "    <tr>\n",
       "      <th>12</th>\n",
       "      <td>Кулинарная Лихорадка Короля</td>\n",
       "      <td>4.6</td>\n",
       "      <td>21400</td>\n",
       "      <td>1000000</td>\n",
       "      <td>3+</td>\n",
       "      <td>симулятор</td>\n",
       "      <td>1</td>\n",
       "      <td>1</td>\n",
       "      <td>1</td>\n",
       "      <td>Matryoshka</td>\n",
       "      <td>0</td>\n",
       "    </tr>\n",
       "    <tr>\n",
       "      <th>13</th>\n",
       "      <td>Кафе на грани: кулинарная игра</td>\n",
       "      <td>4.6</td>\n",
       "      <td>17600</td>\n",
       "      <td>1000000</td>\n",
       "      <td>3+</td>\n",
       "      <td>симулятор</td>\n",
       "      <td>1</td>\n",
       "      <td>1</td>\n",
       "      <td>1</td>\n",
       "      <td>Matryoshka</td>\n",
       "      <td>0</td>\n",
       "    </tr>\n",
       "  </tbody>\n",
       "</table>\n",
       "</div>"
      ],
      "text/plain": [
       "                             title  rating  cnt_reviews  cnt_download  age  \\\n",
       "0     Rescue Dash: тайм-менеджмент     4.4        30000       1000000   3+   \n",
       "1                     Fiona's Farm     4.4        86000       1000000   3+   \n",
       "2    Goodville: Ферма и экспедиции     4.7        95600       1000000   3+   \n",
       "3            Island Farm Adventure     4.5         6370        500000   3+   \n",
       "4     Kong Island: Farm & Survival     4.4        21300       1000000   3+   \n",
       "5        Bermuda Adventures: ферма     4.6       306000      10000000  12+   \n",
       "6     Taylor's Secret: Merge story     4.5         6860        100000   3+   \n",
       "7   Delicious B&B: Decor & Match 3     4.5        51900       1000000   3+   \n",
       "8                       Royal Farm     4.7       121000       5000000   3+   \n",
       "9          Farmington – Игра-ферма     4.8       105000       5000000   3+   \n",
       "10  Superfarmers：Ферма супергероев     4.6        37000       1000000   3+   \n",
       "11      Adventure Bay - Farm Games     4.5        45100       1000000   3+   \n",
       "12     Кулинарная Лихорадка Короля     4.6        21400       1000000   3+   \n",
       "13  Кафе на грани: кулинарная игра     4.6        17600       1000000   3+   \n",
       "\n",
       "          genre  casual  singleplayer  offline                   publisher  \\\n",
       "0     симулятор       1             1        1                  Matryoshka   \n",
       "1   головоломка       1             1        1  Ace Academy Teknoloji A.Ş.   \n",
       "2     симулятор       0             1        0               Stork Limited   \n",
       "3     симулятор       1             1        1                    DailyFun   \n",
       "4     симулятор       1             1        0             CSCMobi Studios   \n",
       "5     симулятор       0             1        0                 BELKA GAMES   \n",
       "6   головоломка       1             0        0                 Merge story   \n",
       "7   головоломка       1             1        0  GameHouse Original Stories   \n",
       "8     симулятор       0             1        0                   UGO Games   \n",
       "9     симулятор       1             1        0                   UGO Games   \n",
       "10    симулятор       1             1        0              HeroCraft Ltd.   \n",
       "11    симулятор       1             1        0                     GAMEGOS   \n",
       "12    симулятор       1             1        1                  Matryoshka   \n",
       "13    симулятор       1             1        1                  Matryoshka   \n",
       "\n",
       "    page1  \n",
       "0       0  \n",
       "1       1  \n",
       "2       0  \n",
       "3       0  \n",
       "4       0  \n",
       "5       0  \n",
       "6       1  \n",
       "7       1  \n",
       "8       0  \n",
       "9       0  \n",
       "10      0  \n",
       "11      0  \n",
       "12      0  \n",
       "13      0  "
      ]
     },
     "execution_count": 53,
     "metadata": {},
     "output_type": "execute_result"
    }
   ],
   "source": [
    "#путь к файлу с данными\n",
    "path = 'D:\\Резюме Андрей Финальные\\Тестовые от работодателей\\Матрешка\\Casual_games.csv'\n",
    "\n",
    "try:\n",
    "    games = pd.read_csv(path)\n",
    "except:\n",
    "    print('Укажите верный путь к данным!')\n",
    "    \n",
    "games"
   ]
  },
  {
   "cell_type": "code",
   "execution_count": 54,
   "id": "343d2a3f",
   "metadata": {},
   "outputs": [
    {
     "name": "stdout",
     "output_type": "stream",
     "text": [
      "<class 'pandas.core.frame.DataFrame'>\n",
      "RangeIndex: 14 entries, 0 to 13\n",
      "Data columns (total 11 columns):\n",
      " #   Column        Non-Null Count  Dtype  \n",
      "---  ------        --------------  -----  \n",
      " 0   title         14 non-null     object \n",
      " 1   rating        14 non-null     float64\n",
      " 2   cnt_reviews   14 non-null     int64  \n",
      " 3   cnt_download  14 non-null     int64  \n",
      " 4   age           14 non-null     object \n",
      " 5   genre         14 non-null     object \n",
      " 6   casual        14 non-null     int64  \n",
      " 7   singleplayer  14 non-null     int64  \n",
      " 8   offline       14 non-null     int64  \n",
      " 9   publisher     14 non-null     object \n",
      " 10  page1         14 non-null     int64  \n",
      "dtypes: float64(1), int64(6), object(4)\n",
      "memory usage: 1.3+ KB\n"
     ]
    }
   ],
   "source": [
    "games.info()"
   ]
  },
  {
   "cell_type": "code",
   "execution_count": 63,
   "id": "09c2fe51",
   "metadata": {
    "scrolled": false
   },
   "outputs": [
    {
     "data": {
      "text/html": [
       "<div>\n",
       "<style scoped>\n",
       "    .dataframe tbody tr th:only-of-type {\n",
       "        vertical-align: middle;\n",
       "    }\n",
       "\n",
       "    .dataframe tbody tr th {\n",
       "        vertical-align: top;\n",
       "    }\n",
       "\n",
       "    .dataframe thead th {\n",
       "        text-align: right;\n",
       "    }\n",
       "</style>\n",
       "<table border=\"1\" class=\"dataframe\">\n",
       "  <thead>\n",
       "    <tr style=\"text-align: right;\">\n",
       "      <th></th>\n",
       "      <th>title</th>\n",
       "      <th>rating</th>\n",
       "      <th>cnt_reviews</th>\n",
       "      <th>cnt_download</th>\n",
       "      <th>age</th>\n",
       "      <th>genre</th>\n",
       "      <th>casual</th>\n",
       "      <th>singleplayer</th>\n",
       "      <th>offline</th>\n",
       "      <th>publisher</th>\n",
       "      <th>page1</th>\n",
       "    </tr>\n",
       "  </thead>\n",
       "  <tbody>\n",
       "    <tr>\n",
       "      <th>5</th>\n",
       "      <td>Bermuda Adventures: ферма</td>\n",
       "      <td>4.6</td>\n",
       "      <td>306000</td>\n",
       "      <td>10000000</td>\n",
       "      <td>12+</td>\n",
       "      <td>симулятор</td>\n",
       "      <td>0</td>\n",
       "      <td>1</td>\n",
       "      <td>0</td>\n",
       "      <td>BELKA GAMES</td>\n",
       "      <td>0</td>\n",
       "    </tr>\n",
       "    <tr>\n",
       "      <th>8</th>\n",
       "      <td>Royal Farm</td>\n",
       "      <td>4.7</td>\n",
       "      <td>121000</td>\n",
       "      <td>5000000</td>\n",
       "      <td>3+</td>\n",
       "      <td>симулятор</td>\n",
       "      <td>0</td>\n",
       "      <td>1</td>\n",
       "      <td>0</td>\n",
       "      <td>UGO Games</td>\n",
       "      <td>0</td>\n",
       "    </tr>\n",
       "    <tr>\n",
       "      <th>9</th>\n",
       "      <td>Farmington – Игра-ферма</td>\n",
       "      <td>4.8</td>\n",
       "      <td>105000</td>\n",
       "      <td>5000000</td>\n",
       "      <td>3+</td>\n",
       "      <td>симулятор</td>\n",
       "      <td>1</td>\n",
       "      <td>1</td>\n",
       "      <td>0</td>\n",
       "      <td>UGO Games</td>\n",
       "      <td>0</td>\n",
       "    </tr>\n",
       "    <tr>\n",
       "      <th>2</th>\n",
       "      <td>Goodville: Ферма и экспедиции</td>\n",
       "      <td>4.7</td>\n",
       "      <td>95600</td>\n",
       "      <td>1000000</td>\n",
       "      <td>3+</td>\n",
       "      <td>симулятор</td>\n",
       "      <td>0</td>\n",
       "      <td>1</td>\n",
       "      <td>0</td>\n",
       "      <td>Stork Limited</td>\n",
       "      <td>0</td>\n",
       "    </tr>\n",
       "    <tr>\n",
       "      <th>1</th>\n",
       "      <td>Fiona's Farm</td>\n",
       "      <td>4.4</td>\n",
       "      <td>86000</td>\n",
       "      <td>1000000</td>\n",
       "      <td>3+</td>\n",
       "      <td>головоломка</td>\n",
       "      <td>1</td>\n",
       "      <td>1</td>\n",
       "      <td>1</td>\n",
       "      <td>Ace Academy Teknoloji A.Ş.</td>\n",
       "      <td>1</td>\n",
       "    </tr>\n",
       "    <tr>\n",
       "      <th>7</th>\n",
       "      <td>Delicious B&amp;B: Decor &amp; Match 3</td>\n",
       "      <td>4.5</td>\n",
       "      <td>51900</td>\n",
       "      <td>1000000</td>\n",
       "      <td>3+</td>\n",
       "      <td>головоломка</td>\n",
       "      <td>1</td>\n",
       "      <td>1</td>\n",
       "      <td>0</td>\n",
       "      <td>GameHouse Original Stories</td>\n",
       "      <td>1</td>\n",
       "    </tr>\n",
       "    <tr>\n",
       "      <th>11</th>\n",
       "      <td>Adventure Bay - Farm Games</td>\n",
       "      <td>4.5</td>\n",
       "      <td>45100</td>\n",
       "      <td>1000000</td>\n",
       "      <td>3+</td>\n",
       "      <td>симулятор</td>\n",
       "      <td>1</td>\n",
       "      <td>1</td>\n",
       "      <td>0</td>\n",
       "      <td>GAMEGOS</td>\n",
       "      <td>0</td>\n",
       "    </tr>\n",
       "    <tr>\n",
       "      <th>10</th>\n",
       "      <td>Superfarmers：Ферма супергероев</td>\n",
       "      <td>4.6</td>\n",
       "      <td>37000</td>\n",
       "      <td>1000000</td>\n",
       "      <td>3+</td>\n",
       "      <td>симулятор</td>\n",
       "      <td>1</td>\n",
       "      <td>1</td>\n",
       "      <td>0</td>\n",
       "      <td>HeroCraft Ltd.</td>\n",
       "      <td>0</td>\n",
       "    </tr>\n",
       "    <tr>\n",
       "      <th>0</th>\n",
       "      <td>Rescue Dash: тайм-менеджмент</td>\n",
       "      <td>4.4</td>\n",
       "      <td>30000</td>\n",
       "      <td>1000000</td>\n",
       "      <td>3+</td>\n",
       "      <td>симулятор</td>\n",
       "      <td>1</td>\n",
       "      <td>1</td>\n",
       "      <td>1</td>\n",
       "      <td>Matryoshka</td>\n",
       "      <td>0</td>\n",
       "    </tr>\n",
       "    <tr>\n",
       "      <th>12</th>\n",
       "      <td>Кулинарная Лихорадка Короля</td>\n",
       "      <td>4.6</td>\n",
       "      <td>21400</td>\n",
       "      <td>1000000</td>\n",
       "      <td>3+</td>\n",
       "      <td>симулятор</td>\n",
       "      <td>1</td>\n",
       "      <td>1</td>\n",
       "      <td>1</td>\n",
       "      <td>Matryoshka</td>\n",
       "      <td>0</td>\n",
       "    </tr>\n",
       "    <tr>\n",
       "      <th>4</th>\n",
       "      <td>Kong Island: Farm &amp; Survival</td>\n",
       "      <td>4.4</td>\n",
       "      <td>21300</td>\n",
       "      <td>1000000</td>\n",
       "      <td>3+</td>\n",
       "      <td>симулятор</td>\n",
       "      <td>1</td>\n",
       "      <td>1</td>\n",
       "      <td>0</td>\n",
       "      <td>CSCMobi Studios</td>\n",
       "      <td>0</td>\n",
       "    </tr>\n",
       "    <tr>\n",
       "      <th>13</th>\n",
       "      <td>Кафе на грани: кулинарная игра</td>\n",
       "      <td>4.6</td>\n",
       "      <td>17600</td>\n",
       "      <td>1000000</td>\n",
       "      <td>3+</td>\n",
       "      <td>симулятор</td>\n",
       "      <td>1</td>\n",
       "      <td>1</td>\n",
       "      <td>1</td>\n",
       "      <td>Matryoshka</td>\n",
       "      <td>0</td>\n",
       "    </tr>\n",
       "    <tr>\n",
       "      <th>6</th>\n",
       "      <td>Taylor's Secret: Merge story</td>\n",
       "      <td>4.5</td>\n",
       "      <td>6860</td>\n",
       "      <td>100000</td>\n",
       "      <td>3+</td>\n",
       "      <td>головоломка</td>\n",
       "      <td>1</td>\n",
       "      <td>0</td>\n",
       "      <td>0</td>\n",
       "      <td>Merge story</td>\n",
       "      <td>1</td>\n",
       "    </tr>\n",
       "    <tr>\n",
       "      <th>3</th>\n",
       "      <td>Island Farm Adventure</td>\n",
       "      <td>4.5</td>\n",
       "      <td>6370</td>\n",
       "      <td>500000</td>\n",
       "      <td>3+</td>\n",
       "      <td>симулятор</td>\n",
       "      <td>1</td>\n",
       "      <td>1</td>\n",
       "      <td>1</td>\n",
       "      <td>DailyFun</td>\n",
       "      <td>0</td>\n",
       "    </tr>\n",
       "  </tbody>\n",
       "</table>\n",
       "</div>"
      ],
      "text/plain": [
       "                             title  rating  cnt_reviews  cnt_download  age  \\\n",
       "5        Bermuda Adventures: ферма     4.6       306000      10000000  12+   \n",
       "8                       Royal Farm     4.7       121000       5000000   3+   \n",
       "9          Farmington – Игра-ферма     4.8       105000       5000000   3+   \n",
       "2    Goodville: Ферма и экспедиции     4.7        95600       1000000   3+   \n",
       "1                     Fiona's Farm     4.4        86000       1000000   3+   \n",
       "7   Delicious B&B: Decor & Match 3     4.5        51900       1000000   3+   \n",
       "11      Adventure Bay - Farm Games     4.5        45100       1000000   3+   \n",
       "10  Superfarmers：Ферма супергероев     4.6        37000       1000000   3+   \n",
       "0     Rescue Dash: тайм-менеджмент     4.4        30000       1000000   3+   \n",
       "12     Кулинарная Лихорадка Короля     4.6        21400       1000000   3+   \n",
       "4     Kong Island: Farm & Survival     4.4        21300       1000000   3+   \n",
       "13  Кафе на грани: кулинарная игра     4.6        17600       1000000   3+   \n",
       "6     Taylor's Secret: Merge story     4.5         6860        100000   3+   \n",
       "3            Island Farm Adventure     4.5         6370        500000   3+   \n",
       "\n",
       "          genre  casual  singleplayer  offline                   publisher  \\\n",
       "5     симулятор       0             1        0                 BELKA GAMES   \n",
       "8     симулятор       0             1        0                   UGO Games   \n",
       "9     симулятор       1             1        0                   UGO Games   \n",
       "2     симулятор       0             1        0               Stork Limited   \n",
       "1   головоломка       1             1        1  Ace Academy Teknoloji A.Ş.   \n",
       "7   головоломка       1             1        0  GameHouse Original Stories   \n",
       "11    симулятор       1             1        0                     GAMEGOS   \n",
       "10    симулятор       1             1        0              HeroCraft Ltd.   \n",
       "0     симулятор       1             1        1                  Matryoshka   \n",
       "12    симулятор       1             1        1                  Matryoshka   \n",
       "4     симулятор       1             1        0             CSCMobi Studios   \n",
       "13    симулятор       1             1        1                  Matryoshka   \n",
       "6   головоломка       1             0        0                 Merge story   \n",
       "3     симулятор       1             1        1                    DailyFun   \n",
       "\n",
       "    page1  \n",
       "5       0  \n",
       "8       0  \n",
       "9       0  \n",
       "2       0  \n",
       "1       1  \n",
       "7       1  \n",
       "11      0  \n",
       "10      0  \n",
       "0       0  \n",
       "12      0  \n",
       "4       0  \n",
       "13      0  \n",
       "6       1  \n",
       "3       0  "
      ]
     },
     "execution_count": 63,
     "metadata": {},
     "output_type": "execute_result"
    }
   ],
   "source": [
    "# сгруппируем по количеству отзывов\n",
    "games.sort_values(by='cnt_reviews', ascending=False)"
   ]
  },
  {
   "cell_type": "markdown",
   "id": "9a95d480",
   "metadata": {},
   "source": [
    "`Bermuda Adventures: ферма` единственная игра с рейтингом 12+. Имеет самое большое число скачиваний и отзывов. Вряд ли с ней можно успешно конкурировать целевой игре."
   ]
  },
  {
   "cell_type": "code",
   "execution_count": 70,
   "id": "024cdeef",
   "metadata": {
    "scrolled": false
   },
   "outputs": [
    {
     "data": {
      "text/html": [
       "<div>\n",
       "<style scoped>\n",
       "    .dataframe tbody tr th:only-of-type {\n",
       "        vertical-align: middle;\n",
       "    }\n",
       "\n",
       "    .dataframe tbody tr th {\n",
       "        vertical-align: top;\n",
       "    }\n",
       "\n",
       "    .dataframe thead th {\n",
       "        text-align: right;\n",
       "    }\n",
       "</style>\n",
       "<table border=\"1\" class=\"dataframe\">\n",
       "  <thead>\n",
       "    <tr style=\"text-align: right;\">\n",
       "      <th></th>\n",
       "      <th>title</th>\n",
       "      <th>rating</th>\n",
       "      <th>cnt_reviews</th>\n",
       "      <th>cnt_download</th>\n",
       "      <th>age</th>\n",
       "      <th>genre</th>\n",
       "      <th>casual</th>\n",
       "      <th>singleplayer</th>\n",
       "      <th>offline</th>\n",
       "      <th>publisher</th>\n",
       "      <th>page1</th>\n",
       "    </tr>\n",
       "  </thead>\n",
       "  <tbody>\n",
       "    <tr>\n",
       "      <th>9</th>\n",
       "      <td>Farmington – Игра-ферма</td>\n",
       "      <td>4.8</td>\n",
       "      <td>105000</td>\n",
       "      <td>5000000</td>\n",
       "      <td>3+</td>\n",
       "      <td>симулятор</td>\n",
       "      <td>1</td>\n",
       "      <td>1</td>\n",
       "      <td>0</td>\n",
       "      <td>UGO Games</td>\n",
       "      <td>0</td>\n",
       "    </tr>\n",
       "    <tr>\n",
       "      <th>8</th>\n",
       "      <td>Royal Farm</td>\n",
       "      <td>4.7</td>\n",
       "      <td>121000</td>\n",
       "      <td>5000000</td>\n",
       "      <td>3+</td>\n",
       "      <td>симулятор</td>\n",
       "      <td>0</td>\n",
       "      <td>1</td>\n",
       "      <td>0</td>\n",
       "      <td>UGO Games</td>\n",
       "      <td>0</td>\n",
       "    </tr>\n",
       "    <tr>\n",
       "      <th>2</th>\n",
       "      <td>Goodville: Ферма и экспедиции</td>\n",
       "      <td>4.7</td>\n",
       "      <td>95600</td>\n",
       "      <td>1000000</td>\n",
       "      <td>3+</td>\n",
       "      <td>симулятор</td>\n",
       "      <td>0</td>\n",
       "      <td>1</td>\n",
       "      <td>0</td>\n",
       "      <td>Stork Limited</td>\n",
       "      <td>0</td>\n",
       "    </tr>\n",
       "    <tr>\n",
       "      <th>5</th>\n",
       "      <td>Bermuda Adventures: ферма</td>\n",
       "      <td>4.6</td>\n",
       "      <td>306000</td>\n",
       "      <td>10000000</td>\n",
       "      <td>12+</td>\n",
       "      <td>симулятор</td>\n",
       "      <td>0</td>\n",
       "      <td>1</td>\n",
       "      <td>0</td>\n",
       "      <td>BELKA GAMES</td>\n",
       "      <td>0</td>\n",
       "    </tr>\n",
       "    <tr>\n",
       "      <th>10</th>\n",
       "      <td>Superfarmers：Ферма супергероев</td>\n",
       "      <td>4.6</td>\n",
       "      <td>37000</td>\n",
       "      <td>1000000</td>\n",
       "      <td>3+</td>\n",
       "      <td>симулятор</td>\n",
       "      <td>1</td>\n",
       "      <td>1</td>\n",
       "      <td>0</td>\n",
       "      <td>HeroCraft Ltd.</td>\n",
       "      <td>0</td>\n",
       "    </tr>\n",
       "    <tr>\n",
       "      <th>12</th>\n",
       "      <td>Кулинарная Лихорадка Короля</td>\n",
       "      <td>4.6</td>\n",
       "      <td>21400</td>\n",
       "      <td>1000000</td>\n",
       "      <td>3+</td>\n",
       "      <td>симулятор</td>\n",
       "      <td>1</td>\n",
       "      <td>1</td>\n",
       "      <td>1</td>\n",
       "      <td>Matryoshka</td>\n",
       "      <td>0</td>\n",
       "    </tr>\n",
       "    <tr>\n",
       "      <th>13</th>\n",
       "      <td>Кафе на грани: кулинарная игра</td>\n",
       "      <td>4.6</td>\n",
       "      <td>17600</td>\n",
       "      <td>1000000</td>\n",
       "      <td>3+</td>\n",
       "      <td>симулятор</td>\n",
       "      <td>1</td>\n",
       "      <td>1</td>\n",
       "      <td>1</td>\n",
       "      <td>Matryoshka</td>\n",
       "      <td>0</td>\n",
       "    </tr>\n",
       "    <tr>\n",
       "      <th>7</th>\n",
       "      <td>Delicious B&amp;B: Decor &amp; Match 3</td>\n",
       "      <td>4.5</td>\n",
       "      <td>51900</td>\n",
       "      <td>1000000</td>\n",
       "      <td>3+</td>\n",
       "      <td>головоломка</td>\n",
       "      <td>1</td>\n",
       "      <td>1</td>\n",
       "      <td>0</td>\n",
       "      <td>GameHouse Original Stories</td>\n",
       "      <td>1</td>\n",
       "    </tr>\n",
       "    <tr>\n",
       "      <th>11</th>\n",
       "      <td>Adventure Bay - Farm Games</td>\n",
       "      <td>4.5</td>\n",
       "      <td>45100</td>\n",
       "      <td>1000000</td>\n",
       "      <td>3+</td>\n",
       "      <td>симулятор</td>\n",
       "      <td>1</td>\n",
       "      <td>1</td>\n",
       "      <td>0</td>\n",
       "      <td>GAMEGOS</td>\n",
       "      <td>0</td>\n",
       "    </tr>\n",
       "    <tr>\n",
       "      <th>6</th>\n",
       "      <td>Taylor's Secret: Merge story</td>\n",
       "      <td>4.5</td>\n",
       "      <td>6860</td>\n",
       "      <td>100000</td>\n",
       "      <td>3+</td>\n",
       "      <td>головоломка</td>\n",
       "      <td>1</td>\n",
       "      <td>0</td>\n",
       "      <td>0</td>\n",
       "      <td>Merge story</td>\n",
       "      <td>1</td>\n",
       "    </tr>\n",
       "    <tr>\n",
       "      <th>3</th>\n",
       "      <td>Island Farm Adventure</td>\n",
       "      <td>4.5</td>\n",
       "      <td>6370</td>\n",
       "      <td>500000</td>\n",
       "      <td>3+</td>\n",
       "      <td>симулятор</td>\n",
       "      <td>1</td>\n",
       "      <td>1</td>\n",
       "      <td>1</td>\n",
       "      <td>DailyFun</td>\n",
       "      <td>0</td>\n",
       "    </tr>\n",
       "    <tr>\n",
       "      <th>1</th>\n",
       "      <td>Fiona's Farm</td>\n",
       "      <td>4.4</td>\n",
       "      <td>86000</td>\n",
       "      <td>1000000</td>\n",
       "      <td>3+</td>\n",
       "      <td>головоломка</td>\n",
       "      <td>1</td>\n",
       "      <td>1</td>\n",
       "      <td>1</td>\n",
       "      <td>Ace Academy Teknoloji A.Ş.</td>\n",
       "      <td>1</td>\n",
       "    </tr>\n",
       "    <tr>\n",
       "      <th>0</th>\n",
       "      <td>Rescue Dash: тайм-менеджмент</td>\n",
       "      <td>4.4</td>\n",
       "      <td>30000</td>\n",
       "      <td>1000000</td>\n",
       "      <td>3+</td>\n",
       "      <td>симулятор</td>\n",
       "      <td>1</td>\n",
       "      <td>1</td>\n",
       "      <td>1</td>\n",
       "      <td>Matryoshka</td>\n",
       "      <td>0</td>\n",
       "    </tr>\n",
       "    <tr>\n",
       "      <th>4</th>\n",
       "      <td>Kong Island: Farm &amp; Survival</td>\n",
       "      <td>4.4</td>\n",
       "      <td>21300</td>\n",
       "      <td>1000000</td>\n",
       "      <td>3+</td>\n",
       "      <td>симулятор</td>\n",
       "      <td>1</td>\n",
       "      <td>1</td>\n",
       "      <td>0</td>\n",
       "      <td>CSCMobi Studios</td>\n",
       "      <td>0</td>\n",
       "    </tr>\n",
       "  </tbody>\n",
       "</table>\n",
       "</div>"
      ],
      "text/plain": [
       "                             title  rating  cnt_reviews  cnt_download  age  \\\n",
       "9          Farmington – Игра-ферма     4.8       105000       5000000   3+   \n",
       "8                       Royal Farm     4.7       121000       5000000   3+   \n",
       "2    Goodville: Ферма и экспедиции     4.7        95600       1000000   3+   \n",
       "5        Bermuda Adventures: ферма     4.6       306000      10000000  12+   \n",
       "10  Superfarmers：Ферма супергероев     4.6        37000       1000000   3+   \n",
       "12     Кулинарная Лихорадка Короля     4.6        21400       1000000   3+   \n",
       "13  Кафе на грани: кулинарная игра     4.6        17600       1000000   3+   \n",
       "7   Delicious B&B: Decor & Match 3     4.5        51900       1000000   3+   \n",
       "11      Adventure Bay - Farm Games     4.5        45100       1000000   3+   \n",
       "6     Taylor's Secret: Merge story     4.5         6860        100000   3+   \n",
       "3            Island Farm Adventure     4.5         6370        500000   3+   \n",
       "1                     Fiona's Farm     4.4        86000       1000000   3+   \n",
       "0     Rescue Dash: тайм-менеджмент     4.4        30000       1000000   3+   \n",
       "4     Kong Island: Farm & Survival     4.4        21300       1000000   3+   \n",
       "\n",
       "          genre  casual  singleplayer  offline                   publisher  \\\n",
       "9     симулятор       1             1        0                   UGO Games   \n",
       "8     симулятор       0             1        0                   UGO Games   \n",
       "2     симулятор       0             1        0               Stork Limited   \n",
       "5     симулятор       0             1        0                 BELKA GAMES   \n",
       "10    симулятор       1             1        0              HeroCraft Ltd.   \n",
       "12    симулятор       1             1        1                  Matryoshka   \n",
       "13    симулятор       1             1        1                  Matryoshka   \n",
       "7   головоломка       1             1        0  GameHouse Original Stories   \n",
       "11    симулятор       1             1        0                     GAMEGOS   \n",
       "6   головоломка       1             0        0                 Merge story   \n",
       "3     симулятор       1             1        1                    DailyFun   \n",
       "1   головоломка       1             1        1  Ace Academy Teknoloji A.Ş.   \n",
       "0     симулятор       1             1        1                  Matryoshka   \n",
       "4     симулятор       1             1        0             CSCMobi Studios   \n",
       "\n",
       "    page1  \n",
       "9       0  \n",
       "8       0  \n",
       "2       0  \n",
       "5       0  \n",
       "10      0  \n",
       "12      0  \n",
       "13      0  \n",
       "7       1  \n",
       "11      0  \n",
       "6       1  \n",
       "3       0  \n",
       "1       1  \n",
       "0       0  \n",
       "4       0  "
      ]
     },
     "execution_count": 70,
     "metadata": {},
     "output_type": "execute_result"
    }
   ],
   "source": [
    "# отсортируем по рейтингу и количеству отзывов\n",
    "games.sort_values(by=['rating', 'cnt_reviews', 'page1'], ascending=[False, False, False])"
   ]
  },
  {
   "cell_type": "code",
   "execution_count": 77,
   "id": "dd3be9fe",
   "metadata": {},
   "outputs": [
    {
     "data": {
      "text/html": [
       "<div>\n",
       "<style scoped>\n",
       "    .dataframe tbody tr th:only-of-type {\n",
       "        vertical-align: middle;\n",
       "    }\n",
       "\n",
       "    .dataframe tbody tr th {\n",
       "        vertical-align: top;\n",
       "    }\n",
       "\n",
       "    .dataframe thead th {\n",
       "        text-align: right;\n",
       "    }\n",
       "</style>\n",
       "<table border=\"1\" class=\"dataframe\">\n",
       "  <thead>\n",
       "    <tr style=\"text-align: right;\">\n",
       "      <th></th>\n",
       "      <th>title</th>\n",
       "      <th>rating</th>\n",
       "      <th>cnt_reviews</th>\n",
       "      <th>cnt_download</th>\n",
       "      <th>age</th>\n",
       "      <th>genre</th>\n",
       "      <th>casual</th>\n",
       "      <th>singleplayer</th>\n",
       "      <th>offline</th>\n",
       "      <th>publisher</th>\n",
       "      <th>page1</th>\n",
       "    </tr>\n",
       "  </thead>\n",
       "  <tbody>\n",
       "    <tr>\n",
       "      <th>7</th>\n",
       "      <td>Delicious B&amp;B: Decor &amp; Match 3</td>\n",
       "      <td>4.5</td>\n",
       "      <td>51900</td>\n",
       "      <td>1000000</td>\n",
       "      <td>3+</td>\n",
       "      <td>головоломка</td>\n",
       "      <td>1</td>\n",
       "      <td>1</td>\n",
       "      <td>0</td>\n",
       "      <td>GameHouse Original Stories</td>\n",
       "      <td>1</td>\n",
       "    </tr>\n",
       "    <tr>\n",
       "      <th>6</th>\n",
       "      <td>Taylor's Secret: Merge story</td>\n",
       "      <td>4.5</td>\n",
       "      <td>6860</td>\n",
       "      <td>100000</td>\n",
       "      <td>3+</td>\n",
       "      <td>головоломка</td>\n",
       "      <td>1</td>\n",
       "      <td>0</td>\n",
       "      <td>0</td>\n",
       "      <td>Merge story</td>\n",
       "      <td>1</td>\n",
       "    </tr>\n",
       "    <tr>\n",
       "      <th>1</th>\n",
       "      <td>Fiona's Farm</td>\n",
       "      <td>4.4</td>\n",
       "      <td>86000</td>\n",
       "      <td>1000000</td>\n",
       "      <td>3+</td>\n",
       "      <td>головоломка</td>\n",
       "      <td>1</td>\n",
       "      <td>1</td>\n",
       "      <td>1</td>\n",
       "      <td>Ace Academy Teknoloji A.Ş.</td>\n",
       "      <td>1</td>\n",
       "    </tr>\n",
       "  </tbody>\n",
       "</table>\n",
       "</div>"
      ],
      "text/plain": [
       "                            title  rating  cnt_reviews  cnt_download age  \\\n",
       "7  Delicious B&B: Decor & Match 3     4.5        51900       1000000  3+   \n",
       "6    Taylor's Secret: Merge story     4.5         6860        100000  3+   \n",
       "1                    Fiona's Farm     4.4        86000       1000000  3+   \n",
       "\n",
       "         genre  casual  singleplayer  offline                   publisher  \\\n",
       "7  головоломка       1             1        0  GameHouse Original Stories   \n",
       "6  головоломка       1             0        0                 Merge story   \n",
       "1  головоломка       1             1        1  Ace Academy Teknoloji A.Ş.   \n",
       "\n",
       "   page1  \n",
       "7      1  \n",
       "6      1  \n",
       "1      1  "
      ]
     },
     "execution_count": 77,
     "metadata": {},
     "output_type": "execute_result"
    }
   ],
   "source": [
    "games.sort_values(by=['page1', 'rating', 'cnt_download', 'cnt_reviews'], ascending=[False, False, False, False]).head(3)"
   ]
  },
  {
   "cell_type": "markdown",
   "id": "4b2e858c",
   "metadata": {},
   "source": [
    "**Итоговый вывод по второму заданию:**\n",
    "\n",
    "При переходе на страницу целевой игры наиболее вероятным конкурентом предположительно стоит считать наиболее похожую игру по максимуму критериев, которая находится в разделе **Похожие игры** в Google play. В этих играх видно в превью только рейтинг, поэтому это значение и будет решающим при выборе другой игры. Далее смотрят на количество скачиваний, количество отзывов (иногда эти значения могут меняться) и другие критерии. Также имеет значение в каком порядке расположены игры в этом разделе.\n",
    "\n",
    "По совокупности критериев наиболее вероятные конкуренты расположились в следующем порядке:\n",
    "\n",
    "- Delicious B&B: Decor & Match 3\t\n",
    "- Taylor's Secret: Merge story\t\n",
    "- Fiona's Farm\n",
    "\n",
    "Однако у всех этих игр есть слабое место: жанр `головоломка`, отличный от жанра целевой игры `симулятор`. Также из этих трех игр режим `офлайн` есть только у **Fiona's Farm**, что делает эту игру наиболее явным конкурентом, поскольку режим `офлайн`, может для неопытного пользователя (смотри возрастное ограничение) говорить о том, что в игре нет рекламы при игре в *авиарежиме*, что, в свою очередь, может стать решающим фактором при выборе игры. А оглядываясь на результаты первого тестового задания (двухкратное падение доходности на второй день), факт быстрого отскока нового пользователя от разочарования из-за наличия рекламы в `офлайн`-режиме не пугает издателя игры. Главное - установленная игра и хотя-бы одно целевое действие (просмотр рекламы).\n",
    "\n",
    "Подводя итог, по совокупности всех критериев можно предположить, что наиболее вероятным конкурентом игры *Rescue Dash: тайм-менеджмент* является головоломка **Fiona's Farm**.\n"
   ]
  },
  {
   "cell_type": "markdown",
   "id": "bde931dc",
   "metadata": {},
   "source": [
    "# Тестовое задание №3"
   ]
  },
  {
   "cell_type": "markdown",
   "id": "92104d38",
   "metadata": {},
   "source": [
    "В качестве эксперимента протестировали два разных варианта баланса\n",
    "уровней(A/B). Через месяц получили следующие результаты:\n",
    "\n",
    "- `Cohort` - когорта\n",
    "- `Paying Share` - % платящих пользователей\n",
    "- `APRU` - средний доход на пользователя\n",
    "- `RetentionD30` - удержание через 30 дней\n",
    "\n",
    "    - A\n",
    "    - 10%\n",
    "    - $1\n",
    "    - 5%\n",
    "\n",
    "        - B\n",
    "        - 14%\n",
    "        - $0.8\n",
    "        - 4%\n",
    "\n",
    "**Задача:** Как Вы считаете, когорта с каким балансом перспективнее? Почему?\n"
   ]
  },
  {
   "cell_type": "code",
   "execution_count": 46,
   "id": "883c565d",
   "metadata": {},
   "outputs": [
    {
     "data": {
      "text/html": [
       "<div>\n",
       "<style scoped>\n",
       "    .dataframe tbody tr th:only-of-type {\n",
       "        vertical-align: middle;\n",
       "    }\n",
       "\n",
       "    .dataframe tbody tr th {\n",
       "        vertical-align: top;\n",
       "    }\n",
       "\n",
       "    .dataframe thead th {\n",
       "        text-align: right;\n",
       "    }\n",
       "</style>\n",
       "<table border=\"1\" class=\"dataframe\">\n",
       "  <thead>\n",
       "    <tr style=\"text-align: right;\">\n",
       "      <th></th>\n",
       "      <th>cohort</th>\n",
       "      <th>paying</th>\n",
       "      <th>arpu</th>\n",
       "      <th>retention</th>\n",
       "    </tr>\n",
       "  </thead>\n",
       "  <tbody>\n",
       "    <tr>\n",
       "      <th>0</th>\n",
       "      <td>A</td>\n",
       "      <td>0.10</td>\n",
       "      <td>1.0</td>\n",
       "      <td>0.05</td>\n",
       "    </tr>\n",
       "    <tr>\n",
       "      <th>1</th>\n",
       "      <td>B</td>\n",
       "      <td>0.14</td>\n",
       "      <td>0.8</td>\n",
       "      <td>0.04</td>\n",
       "    </tr>\n",
       "  </tbody>\n",
       "</table>\n",
       "</div>"
      ],
      "text/plain": [
       "  cohort  paying  arpu  retention\n",
       "0      A    0.10   1.0       0.05\n",
       "1      B    0.14   0.8       0.04"
      ]
     },
     "execution_count": 46,
     "metadata": {},
     "output_type": "execute_result"
    }
   ],
   "source": [
    "# создаем датафрейм сразу с удобной подписью столбцов\n",
    "data = {\n",
    "    'cohort': ['A', 'B'],\n",
    "    'paying': [0.10, 0.14], \n",
    "    'arpu': [1, 0.8],  \n",
    "    'retention': [0.05, 0.04]  \n",
    "}\n",
    "\n",
    "df = pd.DataFrame(data)\n",
    "df"
   ]
  },
  {
   "cell_type": "markdown",
   "id": "52340b57",
   "metadata": {},
   "source": [
    "Предварительые выводы по данным:\n",
    "- По доле платящих пользователей когорта `В`  интереснее\n",
    "- По ARPU интереснее когорта `А` \n",
    "- По удержанию интереснее когорта `А`"
   ]
  },
  {
   "cell_type": "code",
   "execution_count": 47,
   "id": "49b01eac",
   "metadata": {},
   "outputs": [
    {
     "data": {
      "text/plain": [
       "0    0.100\n",
       "1    0.112\n",
       "dtype: float64"
      ]
     },
     "execution_count": 47,
     "metadata": {},
     "output_type": "execute_result"
    }
   ],
   "source": [
    "# общий доход с пользователя в каждой когорте\n",
    "df['paying'] * df['arpu']"
   ]
  },
  {
   "cell_type": "markdown",
   "id": "9c2f593c",
   "metadata": {},
   "source": [
    "**Итоговый вывод по заданию:**\n",
    "___________________________________________________________________________________________________________________________\n",
    "\n",
    "Изначально средний доход на пользователя (APRU) выше в когорте `A`, но когда мы учитываем долю платящих пользователей, общий доход на пользователя оказывается немного **выше** в когорте **`B`**.\n",
    "\n",
    "Когорта `B` кажется немного более перспективной с точки зрения монетизации в **краткосрочной** перспективе из-за более **высокой доли платящих пользователей и общего дохода на пользователя**. Однако, немного более высокое удержание пользователей в когорте `A` может способствовать лучшей долгосрочной монетизации.\n",
    "\n",
    "Учитывая первое задание и его результаты (ревеню на 30-й день в 2.9 млн. раз **ниже** ревеню 0-го дня), то когорта **`В`** кажется **более перспективной**."
   ]
  },
  {
   "cell_type": "code",
   "execution_count": null,
   "id": "3c0ac81e",
   "metadata": {},
   "outputs": [],
   "source": []
  }
 ],
 "metadata": {
  "kernelspec": {
   "display_name": "Python 3 (ipykernel)",
   "language": "python",
   "name": "python3"
  },
  "language_info": {
   "codemirror_mode": {
    "name": "ipython",
    "version": 3
   },
   "file_extension": ".py",
   "mimetype": "text/x-python",
   "name": "python",
   "nbconvert_exporter": "python",
   "pygments_lexer": "ipython3",
   "version": "3.9.13"
  },
  "toc": {
   "base_numbering": 1,
   "nav_menu": {
    "height": "11.6px",
    "width": "160px"
   },
   "number_sections": true,
   "sideBar": true,
   "skip_h1_title": false,
   "title_cell": "Table of Contents",
   "title_sidebar": "Contents",
   "toc_cell": false,
   "toc_position": {
    "height": "calc(100% - 180px)",
    "left": "10px",
    "top": "150px",
    "width": "248px"
   },
   "toc_section_display": true,
   "toc_window_display": true
  }
 },
 "nbformat": 4,
 "nbformat_minor": 5
}
